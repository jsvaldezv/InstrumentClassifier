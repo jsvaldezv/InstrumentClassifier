{
 "cells": [
  {
   "cell_type": "markdown",
   "id": "ec77ab88-e12f-4030-9031-f8df9bd523b7",
   "metadata": {
    "tags": []
   },
   "source": [
    "# IMPORT LIBRARIES"
   ]
  },
  {
   "cell_type": "code",
   "execution_count": 1,
   "id": "78f37842-6df2-4e03-84bd-94bdb650db7e",
   "metadata": {
    "tags": []
   },
   "outputs": [],
   "source": [
    "from sklearn import preprocessing\n",
    "from sklearn.linear_model import LogisticRegression\n",
    "from sklearn.neighbors import KNeighborsClassifier\n",
    "from sklearn.model_selection import train_test_split\n",
    "from sklearn.metrics import (r2_score, roc_auc_score,\n",
    "                            classification_report, confusion_matrix,\n",
    "                            roc_curve, accuracy_score)\n",
    "from sklearn.tree import DecisionTreeClassifier\n",
    "from sklearn.tree import plot_tree\n",
    "import scikitplot as skplt\n",
    "import soundfile as sf\n",
    "from soundfile import SoundFile\n",
    "import numpy as np\n",
    "import librosa\n",
    "import librosa.display\n",
    "import matplotlib.pyplot as plt\n",
    "import pandas as pd\n",
    "from scipy import signal\n",
    "from scipy.fft import fft, fftfreq, rfftfreq, rfft\n",
    "import math\n",
    "import antropy as ant\n",
    "import seaborn as sns\n",
    "from scipy.stats import norm, kurtosis\n",
    "from pedalboard import LadderFilter, Pedalboard\n",
    "#plt.style.use('dark_background')"
   ]
  },
  {
   "cell_type": "markdown",
   "id": "dc78a6d1-c7bc-4756-b94e-951725f10a47",
   "metadata": {},
   "source": [
    "# LOAD INSTRUMENTS"
   ]
  },
  {
   "cell_type": "markdown",
   "id": "a16e3ec3-3ec2-484a-9a24-5dfa7c574a99",
   "metadata": {
    "tags": []
   },
   "source": [
    "### NUMERO DE SAMPLES POR INSTRUMENTO"
   ]
  },
  {
   "cell_type": "code",
   "execution_count": 2,
   "id": "df9eb149-9b36-4ae9-9556-b93c1ae688c6",
   "metadata": {},
   "outputs": [],
   "source": [
    "numSounds = 50"
   ]
  },
  {
   "cell_type": "markdown",
   "id": "6c839290-d0f6-45c0-8d4a-f3bd240f231d",
   "metadata": {},
   "source": [
    "### SOUND PATHS"
   ]
  },
  {
   "cell_type": "code",
   "execution_count": 3,
   "id": "90524fa2-ead6-4d42-9a83-572d74556a60",
   "metadata": {},
   "outputs": [],
   "source": [
    "kicksPath = \"../InstrumentsClassifier/Instruments/Kicks/\"\n",
    "snarePath = \"../InstrumentsClassifier/Instruments/Snares/\"\n",
    "hihatPath = \"../InstrumentsClassifier/Instruments/HiHats/\"\n",
    "guitarPath = \"../InstrumentsClassifier/Instruments/Guitars/\"\n",
    "bassPath = \"../InstrumentsClassifier/Instruments/Basses/\"\n",
    "\n",
    "kicks = []\n",
    "snares = []\n",
    "hihats = []\n",
    "guitars = []\n",
    "basses = []"
   ]
  },
  {
   "cell_type": "markdown",
   "id": "5e65566d-437f-4b86-8133-072e20f4c5de",
   "metadata": {
    "tags": []
   },
   "source": [
    "### LOAD KICKS"
   ]
  },
  {
   "cell_type": "code",
   "execution_count": 4,
   "id": "832f3a71-78b5-4c0e-ab50-f7adfd50463e",
   "metadata": {},
   "outputs": [],
   "source": [
    "# OBTAIN KICKS AUDIO SAMPLES\n",
    "for i in range(numSounds):\n",
    "    path = kicksPath + \"Kick_\" + str(i+1) + \".wav\"\n",
    "    audio = SoundFile(path)\n",
    "\n",
    "    if audio.channels == 1:\n",
    "        sound, sr = sf.read(path)\n",
    "        kicks.append([sound, sr])\n",
    "    else:\n",
    "        sound, sr = sf.read(path)\n",
    "        kicks.append([sound[:,0], sr])"
   ]
  },
  {
   "cell_type": "markdown",
   "id": "de22905d-9377-482d-98c0-0697a1b2ccdb",
   "metadata": {
    "tags": []
   },
   "source": [
    "### LOAD SNARES"
   ]
  },
  {
   "cell_type": "code",
   "execution_count": 5,
   "id": "8c9412cb-3648-4d77-94b8-ec7b4cd8f53e",
   "metadata": {},
   "outputs": [],
   "source": [
    "# OBTAIN SNARE AUDIO SAMPLES\n",
    "for i in range(numSounds):\n",
    "    path = snarePath + \"Snare_\" + str(i+1) + \".wav\"\n",
    "    audio = SoundFile(path)\n",
    "\n",
    "    if audio.channels == 1:\n",
    "        sound, sr = sf.read(path)\n",
    "        snares.append([sound, sr])\n",
    "    else:\n",
    "        sound, sr = sf.read(path)\n",
    "        snares.append([sound[:,0], sr])"
   ]
  },
  {
   "cell_type": "markdown",
   "id": "b2f451f5-a9f9-468b-9c76-349a295ed49e",
   "metadata": {
    "tags": []
   },
   "source": [
    "### LOAD HI HATS"
   ]
  },
  {
   "cell_type": "code",
   "execution_count": 6,
   "id": "8c62a17c-d46c-4819-bd08-1cb3e9888b63",
   "metadata": {},
   "outputs": [],
   "source": [
    "# OBTAIN HIHAT AUDIO SAMPLES\n",
    "for i in range(numSounds):\n",
    "    path = hihatPath + \"Hihat_\" + str(i+1) + \".wav\"\n",
    "    audio = SoundFile(path)\n",
    "\n",
    "    if audio.channels == 1:\n",
    "        sound, sr = sf.read(path)\n",
    "        hihats.append([sound, sr])\n",
    "    else:\n",
    "        sound, sr = sf.read(path)\n",
    "        hihats.append([sound[:,0], sr])"
   ]
  },
  {
   "cell_type": "markdown",
   "id": "32c67ae0-4d90-4e6a-9b83-0ec2073636e4",
   "metadata": {},
   "source": [
    "### LOAD GUITARS"
   ]
  },
  {
   "cell_type": "code",
   "execution_count": 7,
   "id": "ce713b55-28c2-42e8-a4af-c97cd30efcba",
   "metadata": {},
   "outputs": [],
   "source": [
    "# OBTAIN HIHAT AUDIO SAMPLES\n",
    "for i in range(numSounds):\n",
    "    path = bassPath + \"Bass_\" + str(i+1) + \".wav\"\n",
    "    audio = SoundFile(path)\n",
    "\n",
    "    if audio.channels == 1:\n",
    "        sound, sr = sf.read(path)\n",
    "        basses.append([sound, sr])\n",
    "    else:\n",
    "        sound, sr = sf.read(path)\n",
    "        basses.append([sound[:,0], sr])"
   ]
  },
  {
   "cell_type": "markdown",
   "id": "cc223a96-5e62-4028-a6d8-d397b0049206",
   "metadata": {},
   "source": [
    "### LOAD BASSES"
   ]
  },
  {
   "cell_type": "code",
   "execution_count": 8,
   "id": "5c81b15f-4418-45a8-9fd4-93d3435cc272",
   "metadata": {},
   "outputs": [],
   "source": [
    "# OBTAIN HIHAT AUDIO SAMPLES\n",
    "for i in range(numSounds):\n",
    "    path = guitarPath + \"Guitar_\" + str(i+1) + \".wav\"\n",
    "    audio = SoundFile(path)\n",
    "\n",
    "    if audio.channels == 1:\n",
    "        sound, sr = sf.read(path)\n",
    "        guitars.append([sound, sr])\n",
    "    else:\n",
    "        sound, sr = sf.read(path)\n",
    "        guitars.append([sound[:,0], sr])"
   ]
  },
  {
   "cell_type": "markdown",
   "id": "e0b326dd-589b-4737-9eb7-8d25e2fef995",
   "metadata": {},
   "source": [
    "# SEE AND ANALIZE SOUNDS"
   ]
  },
  {
   "cell_type": "markdown",
   "id": "91e6841c-4414-4322-b262-e806a5419932",
   "metadata": {
    "tags": []
   },
   "source": [
    "### FUNCTIONS TO SEE WAVEFORM, SPECTROGRAM AND FFT"
   ]
  },
  {
   "cell_type": "code",
   "execution_count": 9,
   "id": "2b949554-6b0c-415a-93e4-647d2bcbbb11",
   "metadata": {},
   "outputs": [],
   "source": [
    "def graph_spectrogram(samples, sr, title):    \n",
    "    plt.figure(figsize=(10,6))\n",
    "    plt.specgram(samples)\n",
    "    plt.title(title)\n",
    "    plt.ylabel('Frequency [Hz]')\n",
    "    plt.xlabel('Time [sec]')\n",
    "    \n",
    "def graph_waveform(samples, sr, title):  \n",
    "    plt.figure(figsize=(10,6))\n",
    "    plt.plot(samples)\n",
    "    plt.title(title)\n",
    "    plt.ylabel('Linear Amplitude')\n",
    "    plt.xlabel('Time')\n",
    "    plt.show()\n",
    "\n",
    "def graph_spectrum(samples, sr, title):\n",
    "    N = len(samples)\n",
    "    T = 1/sr\n",
    "    yf = fft(samples)\n",
    "    xf = fftfreq(N, T)[:N//2]\n",
    "    plt.figure(figsize=(10,6))\n",
    "    plt.title(title)\n",
    "    plt.plot(xf, 2.0/N * np.abs(yf[0:N//2]))\n",
    "    plt.grid()\n",
    "    plt.show()"
   ]
  },
  {
   "cell_type": "markdown",
   "id": "3720d039-0d94-462b-9ab1-b2ed0276f251",
   "metadata": {
    "tags": []
   },
   "source": [
    "### PLOT AUDIO IN TIME DOMAIN"
   ]
  },
  {
   "cell_type": "markdown",
   "id": "b771e096-4667-4b4f-88e5-bf4ad11a61b7",
   "metadata": {},
   "source": [
    "### Explicar el comportamiento de las graficas y la naturaleza de los sonidos"
   ]
  },
  {
   "cell_type": "code",
   "execution_count": 10,
   "id": "7889a894-4aaf-4ee6-8ac2-79b03cb4c464",
   "metadata": {},
   "outputs": [
    {
     "data": {
      "image/png": "[encoded data removed]",
      "text/plain": [
       "<Figure size 720x432 with 1 Axes>"
      ]
     },
     "metadata": {
      "needs_background": "light"
     },
     "output_type": "display_data"
    }
   ],
   "source": [
    "numKick = 15\n",
    "graph_waveform(basses[numKick-1][0], kicks[numKick-1][1], \"Kick \" + str(numKick))"
   ]
  },
  {
   "cell_type": "markdown",
   "id": "f4660046-05e5-40b1-b856-4950e25fac92",
   "metadata": {
    "tags": []
   },
   "source": [
    "### PLOT AUDIO IN FREQUENCY DOMAIN"
   ]
  },
  {
   "cell_type": "code",
   "execution_count": 11,
   "id": "b14148dc-bb31-4f09-9705-ce92af449491",
   "metadata": {},
   "outputs": [
    {
     "data": {
      "image/png": "[encoded data removed]",
      "text/plain": [
       "<Figure size 720x432 with 1 Axes>"
      ]
     },
     "metadata": {
      "needs_background": "light"
     },
     "output_type": "display_data"
    }
   ],
   "source": [
    "numKick = 2\n",
    "graph_spectrum(kicks[numKick-1][0], kicks[numKick-1][1], \"Kick \" + str(numKick))"
   ]
  },
  {
   "cell_type": "markdown",
   "id": "dba5e7a4-13e3-460c-9a67-dd875fa74f13",
   "metadata": {
    "jp-MarkdownHeadingCollapsed": true,
    "tags": []
   },
   "source": [
    "# PRE PROCESSING"
   ]
  },
  {
   "cell_type": "markdown",
   "id": "788f9112-613d-4423-845d-51c5be974cd6",
   "metadata": {
    "jp-MarkdownHeadingCollapsed": true,
    "tags": []
   },
   "source": [
    "### CALCULATE CENTROID FOR ALL THE SOUNDS"
   ]
  },
  {
   "cell_type": "code",
   "execution_count": 11,
   "id": "5b66583f-3f7a-43b6-aacc-81bf06f157a3",
   "metadata": {},
   "outputs": [
    {
     "name": "stdout",
     "output_type": "stream",
     "text": [
      "Instrument: [2067.2182953615797, 971.7122630706654, 2175.9900361749524, 2298.647100280113, 4172.693280872488, 4280.405238274479, 4139.058366523015, 1471.0684617760419, 2504.6730508000846, 1745.7493813593755, 1142.0621485060308, 1067.2626537095998, 1313.2291952893781, 1083.9363996257484, 2651.2081965949887, 826.6719202260253, 1659.8689625729683, 1445.3576830209256, 1717.228177450321, 1526.2105855256464, 1628.5534177248571, 1869.644925474004, 1710.0181728427237, 2035.011242857067, 1619.2141208849941, 2233.700918097664, 2409.8898015462896, 2287.312299414072, 2040.3341879857596, 1883.0356562893526, 1879.2043460383343, 1704.7554495569793, 2319.024120322133, 1475.489274886016, 1556.2998131085824, 1668.7189842856778, 1034.546878915588, 2181.701894820413, 559.2776997002152, 1652.7963169360899, 2053.802702014524, 1546.1243814856139, 5301.225124151047, 1663.4931531905793, 1790.7071569452721, 632.553824496908, 672.7269441297498, 683.6834211150851, 530.3916597972357, 1439.6182851546978]\n"
     ]
    }
   ],
   "source": [
    "kicks_centroid = []\n",
    "snares_centroid = []\n",
    "hihats_centroid = []\n",
    "guitars_centroid = []\n",
    "\n",
    "cont = 0\n",
    "for kick in kicks:\n",
    "    amplitude = np.abs(rfft(kick[0]))\n",
    "    frequency = rfftfreq(len(kick[0]), 1 / kick[1])\n",
    "    centroid = np.sum(amplitude * frequency) / np.sum(amplitude)\n",
    "    kicks_centroid.append(centroid)\n",
    "\n",
    "for snare in snares:\n",
    "    amplitude = np.abs(rfft(snare[0]))\n",
    "    frequency = rfftfreq(len(snare[0]), 1 / snare[1])\n",
    "    centroid = np.sum(amplitude * frequency) / np.sum(amplitude)\n",
    "    snares_centroid.append(centroid)\n",
    "    \n",
    "for hihat in hihats:\n",
    "    amplitude = np.abs(rfft(hihat[0]))\n",
    "    frequency = rfftfreq(len(hihat[0]), 1 / hihat[1])\n",
    "    centroid = np.sum(amplitude * frequency) / np.sum(amplitude)\n",
    "    hihats_centroid.append(centroid)\n",
    "    \n",
    "for guitar in guitars:\n",
    "    amplitude = np.abs(rfft(guitar[0]))\n",
    "    frequency = rfftfreq(len(guitar[0]), 1 / guitar[1])\n",
    "    centroid = np.sum(amplitude * frequency) / np.sum(amplitude)\n",
    "    guitars_centroid.append(centroid)\n",
    "\n",
    "print(\"Instrument:\", guitars_centroid)"
   ]
  },
  {
   "cell_type": "markdown",
   "id": "5cdbefbf-72bd-48d7-9dd9-256c1737bae4",
   "metadata": {
    "jp-MarkdownHeadingCollapsed": true,
    "tags": []
   },
   "source": [
    "### CALCULATE SPREAD"
   ]
  },
  {
   "cell_type": "code",
   "execution_count": 12,
   "id": "8ea33b1b-23cf-4ee7-b9de-889d859b5fa9",
   "metadata": {},
   "outputs": [
    {
     "name": "stdout",
     "output_type": "stream",
     "text": [
      "Instrument: [1780.728777136958, 1506.8647626918998, 1771.3548386115965, 1858.6891608211338, 4518.997004538873, 4499.324105932673, 4380.027694194762, 1976.1887316723032, 2646.623155768237, 1578.3467409398438, 1186.039293105764, 1410.93184110435, 1983.2170087493732, 1229.8983139207357, 2040.5078135151493, 1905.4457923332989, 1306.0651195013356, 1696.5918501834972, 1636.3222049248216, 1109.4845256689268, 1135.8001637452373, 1142.3624882341958, 1057.7167675433875, 1416.0833681977822, 1279.4988134139599, 1463.0713411437912, 1231.0959325237197, 1640.09436645708, 1719.8034341307539, 1653.432921170242, 1676.989770421631, 1568.595878521969, 1808.503815235594, 1966.7110320437102, 1536.640189879959, 1856.6533814901165, 1126.1705937691447, 3248.4953013671593, 1905.3130002465, 1981.4540215850484, 1876.8027887050812, 1192.2635517990432, 4959.462420770991, 1519.7945250918297, 2137.874434728721, 930.7658499595899, 820.5416334908748, 850.4944682266226, 774.1671634270086, 1268.5127712417154]\n"
     ]
    }
   ],
   "source": [
    "kicks_spread = []\n",
    "snares_spread = []\n",
    "hihats_spread = []\n",
    "guitars_spread = []\n",
    "\n",
    "def spectralSpread(inFrequency, inAmplitude, inCentroid):\n",
    "    i = 0\n",
    "    numerator = 0\n",
    "    denominator = 0\n",
    "    for frequency in inFrequency:\n",
    "        numerator += (frequency - inCentroid) ** 2 * inAmplitude[i]\n",
    "        denominator += inAmplitude[i]\n",
    "        i += 1\n",
    "    return math.sqrt(numerator / denominator)\n",
    "\n",
    "for kick in kicks:\n",
    "    amplitude = np.abs(rfft(kick[0]))\n",
    "    frequency = rfftfreq(len(kick[0]), 1 / kick[1])\n",
    "    centroid = np.sum(amplitude * frequency) / np.sum(amplitude)\n",
    "    spread = spectralSpread(frequency, amplitude, centroid)\n",
    "    kicks_spread.append(spread)\n",
    "\n",
    "for snare in snares:\n",
    "    amplitude = np.abs(rfft(snare[0]))\n",
    "    frequency = rfftfreq(len(snare[0]), 1 / snare[1])\n",
    "    centroid = np.sum(amplitude * frequency) / np.sum(amplitude)\n",
    "    spread = spectralSpread(frequency, amplitude, centroid)\n",
    "    snares_spread.append(spread)\n",
    "    \n",
    "for hihat in hihats:\n",
    "    amplitude = np.abs(rfft(hihat[0]))\n",
    "    frequency = rfftfreq(len(hihat[0]), 1 / hihat[1])\n",
    "    centroid = np.sum(amplitude * frequency) / np.sum(amplitude)\n",
    "    spread = spectralSpread(frequency, amplitude, centroid)\n",
    "    hihats_spread.append(spread)\n",
    "    \n",
    "for guitar in guitars:\n",
    "    amplitude = np.abs(rfft(guitar[0]))\n",
    "    frequency = rfftfreq(len(guitar[0]), 1 / guitar[1])\n",
    "    centroid = np.sum(amplitude * frequency) / np.sum(amplitude)\n",
    "    spread = spectralSpread(frequency, amplitude, centroid)\n",
    "    guitars_spread.append(spread)\n",
    "\n",
    "print(\"Instrument:\", guitars_spread)"
   ]
  },
  {
   "cell_type": "markdown",
   "id": "96dbc361-263c-40d2-a405-778e9211cb31",
   "metadata": {
    "jp-MarkdownHeadingCollapsed": true,
    "tags": []
   },
   "source": [
    "### CALCULATE AND APPLY FILTERS"
   ]
  },
  {
   "cell_type": "code",
   "execution_count": 13,
   "id": "0a3166a1-26a1-4420-8db7-abc36a5ace2b",
   "metadata": {},
   "outputs": [],
   "source": [
    "def highPassProcess(inAudio, inCutoff, inSr):\n",
    "    board = Pedalboard([LadderFilter(mode=LadderFilter.Mode.HPF12, cutoff_hz=inCutoff)], sample_rate=inSr)\n",
    "    inAudio = board(inAudio)\n",
    "    return inAudio\n",
    "\n",
    "def LowPassProcess(inAudio, inCutoff, inSr):\n",
    "    board = Pedalboard([LadderFilter(mode=LadderFilter.Mode.LPF12, cutoff_hz=inCutoff)], sample_rate=inSr)\n",
    "    inAudio = board(inAudio)\n",
    "    return inAudio\n",
    "\n",
    "def makeFilters(inSamples, inLow, inHigh):\n",
    "    inSamples[0] = highPassProcess(inSamples[0], inHigh, inSamples[1])\n",
    "    inSamples[0] = LowPassProcess(inSamples[0], inLow, inSamples[1])\n",
    "    return inSamples[0]\n",
    "\n",
    "cont = 0\n",
    "for kick in kicks:\n",
    "    # OBTAIN HIGH AND LOW CUT\n",
    "    lowCut = kicks_centroid[cont] + kicks_spread[cont]\n",
    "    highCut = kicks_centroid[cont] - kicks_spread[cont]\n",
    "    if highCut < 20:\n",
    "        highCut = 20\n",
    "    kick[0] = makeFilters(kick, lowCut, highCut)\n",
    "    cont += 1\n",
    "    \n",
    "cont = 0\n",
    "for snare in snares:\n",
    "    # OBTAIN HIGH AND LOW CUT\n",
    "    lowCut = snares_centroid[cont] + snares_spread[cont]\n",
    "    highCut = snares_centroid[cont] - snares_spread[cont]\n",
    "    if highCut < 20:\n",
    "        highCut = 20\n",
    "    snare[0] = makeFilters(snare, lowCut, highCut)\n",
    "    cont += 1\n",
    "\n",
    "cont = 0\n",
    "for hihat in hihats:\n",
    "    # OBTAIN HIGH AND LOW CUT\n",
    "    lowCut = hihats_centroid[cont] + hihats_spread[cont]\n",
    "    highCut = hihats_centroid[cont] - hihats_spread[cont]\n",
    "    if highCut < 20:\n",
    "        highCut = 20\n",
    "    hihat[0] = makeFilters(hihat, lowCut, highCut)\n",
    "    cont += 1\n",
    "    \n",
    "cont = 0\n",
    "for guitar in guitars:\n",
    "    # OBTAIN HIGH AND LOW CUT\n",
    "    lowCut = guitars_centroid[cont] + guitars_spread[cont]\n",
    "    highCut = guitars_centroid[cont] - guitars_spread[cont]\n",
    "    if highCut < 20:\n",
    "        highCut = 20\n",
    "    guitar[0] = makeFilters(guitar, lowCut, highCut)\n",
    "    cont += 1"
   ]
  },
  {
   "cell_type": "markdown",
   "id": "88b18e40-4b72-4f2b-a722-3a1dada0c6c3",
   "metadata": {
    "tags": []
   },
   "source": [
    "# OBTAIN DATA"
   ]
  },
  {
   "cell_type": "markdown",
   "id": "d805b009-bce2-40e4-a8a4-e4a22061fb90",
   "metadata": {
    "tags": []
   },
   "source": [
    "### OBTAIN MAIN CENTROID"
   ]
  },
  {
   "cell_type": "code",
   "execution_count": 12,
   "id": "5fb5147d-2428-4f7d-90de-02a24ecc1b7f",
   "metadata": {},
   "outputs": [
    {
     "name": "stdout",
     "output_type": "stream",
     "text": [
      "Instrument: [1477.5985179435165, 180.09108379704364, 399.34463735052253, 539.5569945885411, 861.4360500857156, 162.16821512875615, 177.09593804472277, 440.8989873896277, 593.2411580127168, 1425.5247181131344, 196.32243284410063, 256.5955602677542, 3830.9671728754092, 448.321848500534, 286.19731208808685, 169.40017765924335, 157.81677883117004, 212.85242489175945, 210.39404390762476, 196.0062056768387, 869.9765599001672, 339.91781548646316, 321.2045565995846, 1054.2634498977363, 172.42569522121877, 1506.7720591981017, 4905.845435788891, 458.16244443961233, 646.725627287759, 547.4891110544582, 745.926471112099, 558.5289895990312, 1040.5132728966207, 474.33783451551454, 364.8562998289548, 391.95413889509314, 592.1715945814224, 510.89120349591644, 413.4253111173011, 447.85718626914326, 257.0277409775772, 361.0204457497696, 320.95593563561107, 394.1037772397941, 172.3848306123781, 1392.711641100116, 115.26609658257217, 723.3363540645353, 293.2160711797345, 140.52108582539927]\n"
     ]
    }
   ],
   "source": [
    "kicks_centroid = []\n",
    "snares_centroid = []\n",
    "hihats_centroid = []\n",
    "guitars_centroid = []\n",
    "basses_centroid = []\n",
    "\n",
    "cont = 0\n",
    "for kick in kicks:\n",
    "    amplitude = np.abs(rfft(kick[0]))\n",
    "    frequency = rfftfreq(len(kick[0]), 1 / kick[1])\n",
    "    centroid = np.sum(amplitude * frequency) / np.sum(amplitude)\n",
    "    kicks_centroid.append(centroid)\n",
    "\n",
    "for snare in snares:\n",
    "    amplitude = np.abs(rfft(snare[0]))\n",
    "    frequency = rfftfreq(len(snare[0]), 1 / snare[1])\n",
    "    centroid = np.sum(amplitude * frequency) / np.sum(amplitude)\n",
    "    snares_centroid.append(centroid)\n",
    "    \n",
    "for hihat in hihats:\n",
    "    amplitude = np.abs(rfft(hihat[0]))\n",
    "    frequency = rfftfreq(len(hihat[0]), 1 / hihat[1])\n",
    "    centroid = np.sum(amplitude * frequency) / np.sum(amplitude)\n",
    "    hihats_centroid.append(centroid)\n",
    "    \n",
    "for guitar in guitars:\n",
    "    amplitude = np.abs(rfft(guitar[0]))\n",
    "    frequency = rfftfreq(len(guitar[0]), 1 / guitar[1])\n",
    "    centroid = np.sum(amplitude * frequency) / np.sum(amplitude)\n",
    "    guitars_centroid.append(centroid)\n",
    "    \n",
    "for bass in basses:\n",
    "    amplitude = np.abs(rfft(bass[0]))\n",
    "    frequency = rfftfreq(len(bass[0]), 1 / bass[1])\n",
    "    centroid = np.sum(amplitude * frequency) / np.sum(amplitude)\n",
    "    basses_centroid.append(centroid)\n",
    "\n",
    "print(\"Instrument:\", basses_centroid)"
   ]
  },
  {
   "cell_type": "markdown",
   "id": "5adbc68f-efe8-4015-aa87-9d730d36847c",
   "metadata": {
    "tags": []
   },
   "source": [
    "### OBTAIN MAIN SPREAD"
   ]
  },
  {
   "cell_type": "code",
   "execution_count": 13,
   "id": "d21fdbf8-f84b-46ee-8eb2-c966e2971ec6",
   "metadata": {},
   "outputs": [
    {
     "name": "stdout",
     "output_type": "stream",
     "text": [
      "Instrument: [3365.249869686411, 792.4718888470285, 1359.8476099305346, 1117.7699980539214, 1580.574417347751, 613.5356799145391, 830.7445481034506, 933.7470996037599, 824.3420602991065, 2293.0123699357105, 906.1974693412036, 578.5513605332225, 4587.7442946945175, 1903.2077714237264, 637.214645593298, 1076.5599283224888, 1050.4637633506002, 1114.1038404814822, 470.9640562180362, 496.28875833223475, 2948.2822326264272, 1470.0590867489598, 1091.6094139707902, 1842.773962215347, 299.1123702187792, 1839.8852900740062, 4509.921960734506, 886.3872341789888, 1116.571507446479, 1098.3061960801792, 1389.4614988420228, 1575.430829205366, 1521.033926837551, 934.8096545932585, 806.3407490916861, 859.7913040685315, 1035.8131237352977, 1030.4939154465003, 1414.631932015498, 866.4933031553604, 793.5560371904945, 1003.1431863164005, 1174.574484933702, 680.5243506508986, 575.4230272243242, 2388.564910084935, 420.0350687021528, 1153.7218680281835, 769.1313158886672, 378.84823553007914]\n"
     ]
    }
   ],
   "source": [
    "kicks_spread = []\n",
    "snares_spread = []\n",
    "hihats_spread = []\n",
    "guitars_spread = []\n",
    "basses_spread = []\n",
    "\n",
    "def spectralSpread(inFrequency, inAmplitude, inCentroid):\n",
    "    i = 0\n",
    "    numerator = 0\n",
    "    denominator = 0\n",
    "    for frequency in inFrequency:\n",
    "        numerator += (frequency - inCentroid) ** 2 * inAmplitude[i]\n",
    "        denominator += inAmplitude[i]\n",
    "        i += 1\n",
    "    return math.sqrt(numerator / denominator)\n",
    "\n",
    "for kick in kicks:\n",
    "    amplitude = np.abs(rfft(kick[0]))\n",
    "    frequency = rfftfreq(len(kick[0]), 1 / kick[1])\n",
    "    centroid = np.sum(amplitude * frequency) / np.sum(amplitude)\n",
    "    spread = spectralSpread(frequency, amplitude, centroid)\n",
    "    kicks_spread.append(spread)\n",
    "\n",
    "for snare in snares:\n",
    "    amplitude = np.abs(rfft(snare[0]))\n",
    "    frequency = rfftfreq(len(snare[0]), 1 / snare[1])\n",
    "    centroid = np.sum(amplitude * frequency) / np.sum(amplitude)\n",
    "    spread = spectralSpread(frequency, amplitude, centroid)\n",
    "    snares_spread.append(spread)\n",
    "    \n",
    "for hihat in hihats:\n",
    "    amplitude = np.abs(rfft(hihat[0]))\n",
    "    frequency = rfftfreq(len(hihat[0]), 1 / hihat[1])\n",
    "    centroid = np.sum(amplitude * frequency) / np.sum(amplitude)\n",
    "    spread = spectralSpread(frequency, amplitude, centroid)\n",
    "    hihats_spread.append(spread)\n",
    "    \n",
    "for guitar in guitars:\n",
    "    amplitude = np.abs(rfft(guitar[0]))\n",
    "    frequency = rfftfreq(len(guitar[0]), 1 / guitar[1])\n",
    "    centroid = np.sum(amplitude * frequency) / np.sum(amplitude)\n",
    "    spread = spectralSpread(frequency, amplitude, centroid)\n",
    "    guitars_spread.append(spread)\n",
    "    \n",
    "for bass in basses:\n",
    "    amplitude = np.abs(rfft(bass[0]))\n",
    "    frequency = rfftfreq(len(bass[0]), 1 / bass[1])\n",
    "    centroid = np.sum(amplitude * frequency) / np.sum(amplitude)\n",
    "    spread = spectralSpread(frequency, amplitude, centroid)\n",
    "    basses_spread.append(spread)\n",
    "\n",
    "print(\"Instrument:\", basses_spread)"
   ]
  },
  {
   "cell_type": "markdown",
   "id": "2d572bc2-f71c-4d49-af31-c6a8588299d0",
   "metadata": {
    "tags": []
   },
   "source": [
    "### OBTAIN MAIN PEAK"
   ]
  },
  {
   "cell_type": "code",
   "execution_count": 14,
   "id": "b681997c-ed53-4e6c-9ff7-1bd42991a741",
   "metadata": {},
   "outputs": [
    {
     "name": "stdout",
     "output_type": "stream",
     "text": [
      "Instrument: [41.02811627803651, 48.63530178736351, 66.93757905515288, 114.5149030967043, 58.5022883548166, 87.33626687083498, 77.01691839902472, 76.625, 45.875, 137.1578474700447, 69.09381528138253, 147.08755211435377, 130.8771306818182, 65.48709497017353, 109.62889122360006, 55.09087291058636, 82.38555193882462, 109.58605840834034, 98.53631682911822, 73.62460521673279, 55.208333333333336, 69.27083333333334, 97.75, 82.52355402166192, 98.41449499832743, 83.00388672959467, 794.5445382386292, 77.94273594909862, 65.43120827091309, 54.85833592490249, 48.93750231186235, 74.40358020436906, 83.13110373249152, 208.875, 165.06253898869497, 147.64586820811323, 165.41666666666669, 166.45833333333334, 109.9165600755502, 195.0, 85.30270123523823, 46.33333333333333, 92.66666666666666, 58.54166666666667, 104.16617457400523, 52.29166666666667, 58.416666666666664, 138.66666666666666, 39.16666666666667, 61.750014585698835]\n"
     ]
    }
   ],
   "source": [
    "kicks_peak = []\n",
    "snares_peak = []\n",
    "hihats_peak = []\n",
    "guitars_peak = []\n",
    "basses_peak = []\n",
    "\n",
    "for kick in kicks:\n",
    "    amplitude = np.abs(rfft(kick[0]))\n",
    "    frequency = rfftfreq(len(kick[0]), 1 / kick[1])\n",
    "    peakIndex = np.argmax(np.array(amplitude))\n",
    "    peak = frequency[peakIndex]\n",
    "    kicks_peak.append(peak)\n",
    "\n",
    "for snare in snares:\n",
    "    amplitude = np.abs(rfft(snare[0]))\n",
    "    frequency = rfftfreq(len(snare[0]), 1 / snare[1])\n",
    "    peakIndex = np.argmax(np.array(amplitude))\n",
    "    peak = frequency[peakIndex]\n",
    "    snares_peak.append(peak)\n",
    "    \n",
    "for hihat in hihats:\n",
    "    amplitude = np.abs(rfft(hihat[0]))\n",
    "    frequency = rfftfreq(len(hihat[0]), 1 / hihat[1])\n",
    "    peakIndex = np.argmax(np.array(amplitude))\n",
    "    peak = frequency[peakIndex]\n",
    "    hihats_peak.append(peak)\n",
    "    \n",
    "for guitar in guitars:\n",
    "    amplitude = np.abs(rfft(guitar[0]))\n",
    "    frequency = rfftfreq(len(guitar[0]), 1 / guitar[1])\n",
    "    peakIndex = np.argmax(np.array(amplitude))\n",
    "    peak = frequency[peakIndex]\n",
    "    guitars_peak.append(peak)\n",
    "    \n",
    "for bass in basses:\n",
    "    amplitude = np.abs(rfft(bass[0]))\n",
    "    frequency = rfftfreq(len(bass[0]), 1 / bass[1])\n",
    "    peakIndex = np.argmax(np.array(amplitude))\n",
    "    peak = frequency[peakIndex]\n",
    "    basses_peak.append(peak)\n",
    "    \n",
    "print(\"Instrument:\", basses_peak)"
   ]
  },
  {
   "cell_type": "markdown",
   "id": "1cbbf822-36ec-41cc-ba78-e67b4c76e67e",
   "metadata": {
    "jp-MarkdownHeadingCollapsed": true,
    "tags": []
   },
   "source": [
    "### OBTAIN MAIN ZERO CROSSING"
   ]
  },
  {
   "cell_type": "code",
   "execution_count": 17,
   "id": "4627231c-1bae-4fac-98cf-4ecbcaaa02e5",
   "metadata": {},
   "outputs": [
    {
     "name": "stdout",
     "output_type": "stream",
     "text": [
      "Instrument: [0.083080633094584, 0.026386237487166325, 0.09022165055926216, 0.10359687745290423, 0.013856758191747573, 0.02465662802419355, 0.01750584652549342, 0.03774862243357488, 0.06411088708504051, 0.047298750688325994, 0.024452329055642635, 0.021407319343800323, 0.027752066349637682, 0.026989923007246376, 0.10958677254624871, 0.006565661716710183, 0.055082752810686655, 0.0242938962305026, 0.049792534086749635, 0.03088277350249584, 0.028513148211050724, 0.0496189914049236, 0.05016466800567108, 0.0802122219442734, 0.0671090790719697, 0.08133841849662163, 0.05819400326236264, 0.07191850142045454, 0.047880371832450835, 0.053523804330583756, 0.04278885690789474, 0.0403207957125865, 0.09004805177824268, 0.03603886253309797, 0.03667065451235658, 0.049240930599369084, 0.018921267229984894, 0.03640129342900302, 0.008271155886513675, 0.08665135189457494, 0.034142572504020655, 0.06127085584275266, 0.12596097905585107, 0.04182082300844347, 0.03083130923082574, 0.009665952909977064, 0.022420326100096713, 0.023335499274661508, 0.010587639764908258, 0.041438951404816515]\n"
     ]
    }
   ],
   "source": [
    "kicks_zero_crossing = []\n",
    "snares_zero_crossing = []\n",
    "hihats_zero_crossing = []\n",
    "guitars_zero_crossing = []\n",
    "\n",
    "cont = 0\n",
    "for kick in kicks:\n",
    "    zero_crossing = librosa.feature.zero_crossing_rate(kick[0])\n",
    "    zero_crossing = zero_crossing.mean() #* kick[1]\n",
    "    kicks_zero_crossing.append(zero_crossing)\n",
    "    \n",
    "for snare in snares:\n",
    "    zero_crossing = librosa.feature.zero_crossing_rate(snare[0])\n",
    "    zero_crossing = zero_crossing.mean() #* snare[1]\n",
    "    snares_zero_crossing.append(zero_crossing)\n",
    "    \n",
    "for hihat in hihats:\n",
    "    zero_crossing = librosa.feature.zero_crossing_rate(hihat[0])\n",
    "    zero_crossing = zero_crossing.mean() #* hihat[1]\n",
    "    hihats_zero_crossing.append(zero_crossing)\n",
    "    \n",
    "for guitar in guitars:\n",
    "    zero_crossing = librosa.feature.zero_crossing_rate(guitar[0])\n",
    "    zero_crossing = zero_crossing.mean() #* hihat[1]\n",
    "    guitars_zero_crossing.append(zero_crossing)\n",
    "    \n",
    "print(\"Instrument:\", guitars_zero_crossing)"
   ]
  },
  {
   "cell_type": "markdown",
   "id": "c6dd7575-d892-425c-b358-5c25d22b162c",
   "metadata": {
    "jp-MarkdownHeadingCollapsed": true,
    "tags": []
   },
   "source": [
    "### OBTAIN MAIN CURTOSIS "
   ]
  },
  {
   "cell_type": "code",
   "execution_count": 18,
   "id": "6664ee87-42eb-43ed-9630-65cafe1d8bee",
   "metadata": {},
   "outputs": [
    {
     "name": "stdout",
     "output_type": "stream",
     "text": [
      "Instrument: [0.2425621601232053, 30.838043700916693, 0.4810334075617573, -0.21894344923417508, 15.917654030801, 12.86093434126334, 12.27176001243246, 4.0014646731081775, 15.39134024733255, -0.22857409202397028, 3.8996229573892407, 1.4859217305643124, 5.204108024692273, 19.002078048509134, 1.1959401616420582, 4.4782987492683555, 3.8188257173933726, 8.302483544334052, 14.165380774363783, 30.903152319762548, 56.037120136511355, 32.195476229095156, 13.920506291646511, 326.5379372453841, 27.71379358246093, 13.074812776017794, 28.036536632413654, 2.9364912346005916, 3.2515437443374413, 2.615675578693576, 1.4521287835234418, -0.37633382697706086, 4.374090679877729, -0.20589597315806651, 4.58082248594696, 0.1989134894928415, 0.06389309904055152, -0.6917253038005438, 2.5519528891208774, 35.28995269654428, 34.62686088318553, 0.5143119921526575, 3.9555370027761025, -0.46984169201415327, 2.236095259839942, 0.23021035205003404, 1.9226771421637636, 2.2649717464773627, -0.43298759676093734, 3.1437514517269953]\n"
     ]
    }
   ],
   "source": [
    "kicks_kurtosis = []\n",
    "snares_kurtosis = []\n",
    "hihats_kurtosis = []\n",
    "guitars_kurtosis = []\n",
    "\n",
    "for kick in kicks:\n",
    "    kurtosisValue = kurtosis(kick[0], fisher=True)\n",
    "    kicks_kurtosis.append(kurtosisValue)\n",
    "    \n",
    "for snare in snares:\n",
    "    kurtosisValue = kurtosis(snare[0], fisher=True)\n",
    "    snares_kurtosis.append(kurtosisValue)\n",
    "    \n",
    "for hihat in hihats:\n",
    "    kurtosisValue = kurtosis(hihat[0], fisher=True)\n",
    "    hihats_kurtosis.append(kurtosisValue)\n",
    "    \n",
    "for guitar in guitars:\n",
    "    kurtosisValue = kurtosis(guitar[0], fisher=True)\n",
    "    guitars_kurtosis.append(kurtosisValue)\n",
    "    \n",
    "print(\"Instrument:\", guitars_kurtosis)"
   ]
  },
  {
   "cell_type": "markdown",
   "id": "f876a2d0-06c3-4818-83ba-58d5a6afdd5c",
   "metadata": {
    "jp-MarkdownHeadingCollapsed": true,
    "tags": []
   },
   "source": [
    "### OBTAIN MAIN ENTROPY"
   ]
  },
  {
   "cell_type": "code",
   "execution_count": 19,
   "id": "470b2fb1-3e06-4cd8-b222-427d1371243d",
   "metadata": {},
   "outputs": [
    {
     "name": "stdout",
     "output_type": "stream",
     "text": [
      "Instrument: [0.6327455276285413, 0.39251607530425947, 0.6404150051015207, 0.6422661832385711, 0.36072639756611796, 0.47460608997759096, 0.4376551284585729, 0.4252227727863635, 0.5764418007479221, 0.41114388260891926, 0.3700568277729614, 0.32259841211422724, 0.45686122915018074, 0.3897458711131307, 0.6214770698603111, 0.23663689902245308, 0.5115783387869907, 0.4467564652543926, 0.5320873508699259, 0.5545162317074368, 0.5117643475384082, 0.5251388868441685, 0.5215088257447505, 0.5249060188497067, 0.5894273879332597, 0.5418698129474444, 0.3922316213361411, 0.5408191525466133, 0.5575340961794748, 0.5817384594537334, 0.4681822930497533, 0.39728922309086195, 0.5850572364378909, 0.41339815905297195, 0.43159641196130527, 0.5161060706395931, 0.3082476499134589, 0.4476458727303203, 0.2303414889394009, 0.371048761096334, 0.5720173768636571, 0.4913590514868848, 0.7467770535089502, 0.40057440288189317, 0.4123667796324066, 0.24331548033237405, 0.3722374488320835, 0.37334431992141426, 0.2631899883398616, 0.4548551910763927]\n"
     ]
    }
   ],
   "source": [
    "kicks_entropy = []\n",
    "snares_entropy = []\n",
    "hihats_entropy = []\n",
    "guitars_entropy = []\n",
    "\n",
    "for kick in kicks:\n",
    "    entropyValue = ant.spectral_entropy(kick[0], kick[1], method='welch', normalize=True)\n",
    "    kicks_entropy.append(entropyValue)\n",
    "    \n",
    "for snare in snares:\n",
    "    entropyValue = ant.spectral_entropy(snare[0], snare[1], method='welch', normalize=True)\n",
    "    snares_entropy.append(entropyValue)\n",
    "    \n",
    "for hihat in hihats:\n",
    "    entropyValue = ant.spectral_entropy(hihat[0], hihat[1], method='welch', normalize=True)\n",
    "    hihats_entropy.append(entropyValue)\n",
    "\n",
    "for guitar in guitars:\n",
    "    entropyValue = ant.spectral_entropy(guitar[0], guitar[1], method='welch', normalize=True)\n",
    "    guitars_entropy.append(entropyValue)\n",
    "\n",
    "print(\"Instrument:\", guitars_entropy)"
   ]
  },
  {
   "cell_type": "markdown",
   "id": "364f6bbc-1a43-4824-ae8a-4320267f1096",
   "metadata": {
    "tags": []
   },
   "source": [
    "### OBTAIN MAIN MFCC"
   ]
  },
  {
   "cell_type": "code",
   "execution_count": 15,
   "id": "5fd74bbb-3289-4f77-8e06-ff6658d2e75c",
   "metadata": {},
   "outputs": [],
   "source": [
    "kicks_mfcc = []\n",
    "snares_mfcc = []\n",
    "hihats_mfcc = []\n",
    "guitars_mfcc = []\n",
    "basses_mfcc = []\n",
    "\n",
    "mfcc_bands = 13\n",
    "\n",
    "for kick in kicks:\n",
    "    mfccValue = librosa.feature.mfcc(kick[0], sr=kick[1], n_mfcc=mfcc_bands)\n",
    "    kicks_mfcc.append(mfccValue)\n",
    "    \n",
    "for snare in snares:\n",
    "    mfccValue = librosa.feature.mfcc(snare[0], sr=snare[1], n_mfcc=mfcc_bands)\n",
    "    snares_mfcc.append(mfccValue)\n",
    "    \n",
    "for hihat in hihats:\n",
    "    mfccValue = librosa.feature.mfcc(hihat[0], sr=hihat[1], n_mfcc=mfcc_bands)\n",
    "    hihats_mfcc.append(mfccValue)\n",
    "    \n",
    "for guitar in guitars:\n",
    "    mfccValue = librosa.feature.mfcc(guitar[0], sr=guitar[1], n_mfcc=mfcc_bands)\n",
    "    guitars_mfcc.append(mfccValue)\n",
    "    \n",
    "for bass in basses:\n",
    "    mfccValue = librosa.feature.mfcc(bass[0], sr=bass[1], n_mfcc=mfcc_bands)\n",
    "    basses_mfcc.append(mfccValue)"
   ]
  },
  {
   "cell_type": "markdown",
   "id": "c957fe53-911c-4826-aa5d-2aa932d72152",
   "metadata": {
    "jp-MarkdownHeadingCollapsed": true,
    "tags": []
   },
   "source": [
    "### OBTAIN MAIN ROLL OFF"
   ]
  },
  {
   "cell_type": "code",
   "execution_count": 21,
   "id": "b42a9cda-7014-4dd7-ba10-ee6bc99e776b",
   "metadata": {},
   "outputs": [
    {
     "name": "stdout",
     "output_type": "stream",
     "text": [
      "Instrument: [5319.7265625, 4204.1015625, 5247.94921875, 923.7744140625, 109.78403560450819, 499.5703125, 3057.099609375, 6186.132290274064, 509.5486111111111, 214.55838323353294, 4054.1879226912315, 476.04586693548384, 1417.7613384955753, 2519.384765625, 1741.497802734375, 2117.49047451332, 1610.0210336538462, 2373.651123046875, 907.265625, 2304.3693991268383, 1236.8133544921875, 3874.4009622713415, 4444.677169888006, 5403.837076822917, 2573.5890355603447, 1986.7213199013158, 446.044921875, 478.95063920454544, 805.341796875, 884.296875, 2457.77587890625, 1052.1568561422414, 2767.342862215909, 1506.5266927083333, 870.9614000822369, 2209.1471354166665, 364.62890625, 4516.415700604839, 7446.573153409091, 885.732421875, 2114.6584250710225, 2271.7529296875, 1358.1298828125, 4511.2060546875, 448.9039522058824, 2071.00351068038, 3601.482599431818, 3086.7550351204127, 1237.6697887073863, 396.34552001953125]\n"
     ]
    }
   ],
   "source": [
    "kicks_rollOff = []\n",
    "snares_rollOff = []\n",
    "hihats_rollOff = []\n",
    "guitars_rollOff = []\n",
    "\n",
    "for kick in kicks:\n",
    "    rollOffValue = librosa.feature.spectral_rolloff(kick[0], kick[1]).mean()\n",
    "    kicks_rollOff.append(rollOffValue)\n",
    "\n",
    "for snare in snares:\n",
    "    rollOffValue = librosa.feature.spectral_rolloff(snare[0], snare[1]).mean()\n",
    "    snares_rollOff.append(rollOffValue)\n",
    "    \n",
    "for hihat in hihats:\n",
    "    rollOffValue = librosa.feature.spectral_rolloff(hihat[0], hihat[1]).mean()\n",
    "    hihats_rollOff.append(rollOffValue)\n",
    "    \n",
    "for guitar in guitars:\n",
    "    rollOffValue = librosa.feature.spectral_rolloff(guitar[0], guitar[1]).mean()\n",
    "    guitars_rollOff.append(rollOffValue)\n",
    "    \n",
    "print(\"Instrument:\", kicks_rollOff)"
   ]
  },
  {
   "cell_type": "markdown",
   "id": "ed68efc5-cdc1-4564-920d-c6d30246be36",
   "metadata": {
    "jp-MarkdownHeadingCollapsed": true,
    "tags": []
   },
   "source": [
    "### OBTAIN MAIN DECREASE"
   ]
  },
  {
   "cell_type": "code",
   "execution_count": 22,
   "id": "6ada5a82-51cb-4c0f-90ca-63894c6a1dfb",
   "metadata": {},
   "outputs": [
    {
     "name": "stdout",
     "output_type": "stream",
     "text": [
      "Instrument: [0.0003699975386352464, 0.0003099342864049188, 0.00017778442459834924, 0.00017928583789565545, 3.073092452260104e-05, 1.9291000663094066e-05, 0.000267277104344778, 0.00017641363923312508, 0.00010151271489934517, 0.0005373797778419213, 0.0001333912263888198, 9.278151367426627e-05, 8.898470147339803e-05, 0.00018435958357886662, 0.0001310556125428712, 0.00012610182371377258, 7.274306311455691e-05, 0.000404988890340609, 0.00043527565270125377, -4.0976274702513526e-05, 0.0004531854197875301, 0.0001278651551919847, 0.00013982509777975963, 0.0003888892516240366, 6.951100694508084e-05, 0.00041089751630899487, 0.00012447204311390924, 0.0003903307518338621, 9.393207743116648e-05, 0.000404988890340609, 7.935440698633896e-05, 0.0008060299762398164, 0.00047257982052250393, 0.0003857737166794689, 8.474682746345052e-05, 0.00011419650839556927, 5.630161823196267e-05, 2.8896956665390622e-05, -4.961047224387835e-06, 0.00011352647369457202, 5.480563384844766e-05, 0.00013885336683691938, 3.4474030837832426e-05, 0.0002183393346185277, 3.1662664646130596e-05, 0.00033322135736663604, 2.1333020003937336e-05, 0.00012036277111037526, 4.9573791300164785e-05, 0.00017932561585837003]\n"
     ]
    }
   ],
   "source": [
    "def getDecrease(inAudio):\n",
    "    amplitude = np.abs(rfft(inAudio))\n",
    "    \n",
    "    primero = amplitude[0]\n",
    "    amplitude = np.delete(amplitude,0)\n",
    "    decrease = np.sum(amplitude - primero) / ((len(amplitude)-1) * np.sum(amplitude))\n",
    "    return decrease\n",
    "\n",
    "kicks_decrease = []\n",
    "snares_decrease = []\n",
    "hihats_decrease = []\n",
    "guitars_decrease = []\n",
    "\n",
    "for kick in kicks:\n",
    "    decreaseValue = getDecrease(kick[0])\n",
    "    kicks_decrease.append(decreaseValue)\n",
    "\n",
    "for snare in snares:\n",
    "    decreaseValue = getDecrease(snare[0])\n",
    "    snares_decrease.append(decreaseValue)\n",
    "    \n",
    "for hihat in hihats:\n",
    "    decreaseValue = getDecrease(hihat[0])\n",
    "    hihats_decrease.append(decreaseValue)\n",
    "    \n",
    "for guitar in guitars:\n",
    "    decreaseValue = getDecrease(guitar[0])\n",
    "    guitars_decrease.append(decreaseValue)\n",
    "\n",
    "print(\"Instrument:\", hihats_decrease)"
   ]
  },
  {
   "cell_type": "markdown",
   "id": "39cc8038-accd-4f5d-9320-f13154532839",
   "metadata": {
    "jp-MarkdownHeadingCollapsed": true,
    "tags": []
   },
   "source": [
    "### OBTAIN MAIN SLOPE"
   ]
  },
  {
   "cell_type": "code",
   "execution_count": 23,
   "id": "05635d48-4e64-4907-961a-6d7d86873ffe",
   "metadata": {},
   "outputs": [
    {
     "name": "stdout",
     "output_type": "stream",
     "text": [
      "Instrument: [-0.006844730540632944, -0.0012520415918795768, -0.006516587769213961, -0.007015704701497326, -0.001710464080837558, -0.0015742304469527663, -0.0016015493758359451, -0.002083924999953466, -0.00432997794881788, -0.005945096136579453, -0.001457132776265773, -0.0013836323748455098, -0.002307357427489239, -0.0020135189829148833, -0.006679715768822421, -0.0005130719217997642, -0.002976555989251918, -0.0016091737140334918, -0.0013829336818682954, -0.0007371523491814336, -0.0005533523500951526, -0.0005848159752297095, -0.0008460038611049785, -0.0005489560165872929, -0.0007024965916796673, -0.002045841923329116, -0.00035027671742506245, -0.003503389797089523, -0.00383918172737162, -0.0032655772799941966, -0.006209397826991927, -0.009909845553492037, -0.0022204958638935117, -0.005437035205867056, -0.003589229105360444, -0.005016683897322149, -0.004230305566659503, -0.0074327731742642135, -0.0027882998054927304, -0.0020361126472714574, -0.0019661671405922926, -0.0034113953235081484, -0.003590937909059016, -0.00596710379417599, -0.004190707727902176, -0.004505068742741876, -0.0026589887352490146, -0.003326652853344658, -0.003326324554773522, -0.0020389925403323005]\n"
     ]
    }
   ],
   "source": [
    "def getSlope(inAudio, inSampleRate):\n",
    "    amplitude = np.abs(rfft(inAudio))\n",
    "    frequency = rfftfreq(len(inAudio), 1 / inSampleRate)\n",
    "    slope = np.sum((amplitude - amplitude.mean()) * (frequency - frequency.mean())) / np.sum((frequency - frequency.mean()) ** 2)\n",
    "    return slope\n",
    "\n",
    "kicks_slope = []\n",
    "snares_slope = []\n",
    "hihats_slope = []\n",
    "guitars_slope = []\n",
    "\n",
    "for kick in kicks:\n",
    "    slopeValue = getSlope(kick[0], kick[1])\n",
    "    kicks_slope.append(slopeValue)\n",
    "\n",
    "for snare in snares:\n",
    "    slopeValue = getSlope(snare[0], snare[1])\n",
    "    snares_slope.append(slopeValue)\n",
    "    \n",
    "for hihat in hihats:\n",
    "    slopeValue = getSlope(hihat[0], hihat[1])\n",
    "    hihats_slope.append(slopeValue)\n",
    "    \n",
    "for guitar in guitars:\n",
    "    slopeValue = getSlope(guitar[0], guitar[1])\n",
    "    guitars_slope.append(slopeValue)\n",
    "\n",
    "print(\"Instrument:\", guitars_slope)"
   ]
  },
  {
   "cell_type": "markdown",
   "id": "43d26f54-d1d2-4f2e-bc63-535e4dc21344",
   "metadata": {
    "jp-MarkdownHeadingCollapsed": true,
    "tags": []
   },
   "source": [
    "### FLATNESS"
   ]
  },
  {
   "cell_type": "code",
   "execution_count": null,
   "id": "01deebca-74a1-43c0-ac6d-c1be8952ed0b",
   "metadata": {
    "tags": []
   },
   "outputs": [],
   "source": [
    "###kicks_flatness = []\n",
    "snares_flatness = []\n",
    "hihats_flatness = []\n",
    "guitars_flatness = []\n",
    "\n",
    "for kick in kicks:\n",
    "    flatnessValue = librosa.feature.spectral_flatness(kick[0]).mean()\n",
    "    kicks_flatness.append(flatnessValue)\n",
    "\n",
    "for snare in snares:\n",
    "    flatnessValue = librosa.feature.spectral_flatness(snare[0]).mean()\n",
    "    snares_flatness.append(flatnessValue)\n",
    "    \n",
    "for hihat in hihats:\n",
    "    flatnessValue = librosa.feature.spectral_flatness(hihat[0]).mean()\n",
    "    hihats_flatness.append(flatnessValue)\n",
    "    \n",
    "for guitar in guitars:\n",
    "    flatnessValue = librosa.feature.spectral_flatness(guitar[0]).mean()\n",
    "    guitars_flatness.append(flatnessValue)\n",
    "    \n",
    "print(\"Instrument:\", kicks_flatness) OBTAIN MAIN FLATNESS"
   ]
  },
  {
   "cell_type": "markdown",
   "id": "15af0b92-5b8b-4a8b-b6da-36a3ce3f139a",
   "metadata": {
    "tags": []
   },
   "source": [
    "### OBTAIN MAIN FLUX"
   ]
  },
  {
   "cell_type": "code",
   "execution_count": 47,
   "id": "d414bb17-a45e-4b07-912f-05703bd1ae9b",
   "metadata": {},
   "outputs": [],
   "source": [
    "kicks_flux = []\n",
    "snares_flux = []\n",
    "hihats_flux = []\n",
    "guitars_flux = []\n",
    "basses_flux = []\n",
    "\n",
    "for kick in kicks:\n",
    "    fluxValue = librosa.onset.onset_strength(kick[0]).mean()\n",
    "    kicks_flux.append(fluxValue)\n",
    "    \n",
    "for snare in snares:\n",
    "    fluxValue = librosa.onset.onset_strength(snare[0]).mean()\n",
    "    snares_flux.append(fluxValue)\n",
    "    \n",
    "for hihat in hihats:\n",
    "    fluxValue = librosa.onset.onset_strength(hihat[0]).mean()\n",
    "    hihats_flux.append(fluxValue)\n",
    "    \n",
    "for guitar in guitars:\n",
    "    fluxValue = librosa.onset.onset_strength(guitar[0]).mean()\n",
    "    guitars_flux.append(fluxValue)\n",
    "    \n",
    "for bass in basses:\n",
    "    fluxValue = librosa.onset.onset_strength(bass[0]).mean()\n",
    "    basses_flux.append(fluxValue)"
   ]
  },
  {
   "cell_type": "markdown",
   "id": "9b60c683-8396-4479-af73-c79c569ca96f",
   "metadata": {
    "tags": []
   },
   "source": [
    "### CREATE DATAFRAME WITH MAIN DATA"
   ]
  },
  {
   "cell_type": "code",
   "execution_count": 48,
   "id": "03207c87-66fe-4273-96d1-2ff4acd044df",
   "metadata": {},
   "outputs": [],
   "source": [
    "cont = 0\n",
    "filas = []\n",
    "for i in range(len(kicks)*5):\n",
    "    fila = []\n",
    "    \n",
    "    if i < len(kicks):\n",
    "        fila.append('kick')\n",
    "        fila.append(1)\n",
    "        fila.append(kicks_centroid[i])\n",
    "        fila.append(kicks_spread[i])\n",
    "        fila.append(kicks_peak[i])\n",
    "        fila.append(kicks_flux[i])\n",
    "        #fila.append(kicks_slope[i])\n",
    "        #fila.append(kicks_flatness[i])\n",
    "        #fila.append(kicks_decrease[i])\n",
    "        #fila.append(kicks_zero_crossing[i])\n",
    "        #fila.append(kicks_kurtosis[i])\n",
    "        #fila.append(kicks_entropy[i])\n",
    "        #fila.append(kicks_rollOff[i])\n",
    "        for mfcc in kicks_mfcc[i]:\n",
    "            fila.append(mfcc.mean())\n",
    "    elif i >= len(kicks) and i < (len(kicks)*2):\n",
    "        fila.append('snare')\n",
    "        fila.append(2)\n",
    "        fila.append(snares_centroid[i-len(kicks)])\n",
    "        fila.append(snares_spread[i-len(kicks)])\n",
    "        fila.append(snares_peak[i-len(kicks)])\n",
    "        fila.append(snares_flux[i-len(kicks)])\n",
    "        #fila.append(snares_slope[i-len(kicks)])\n",
    "        #fila.append(snares_flatness[i-len(kicks)])\n",
    "        #fila.append(snares_decrease[i-len(kicks)])\n",
    "        #fila.append(snares_zero_crossing[i-len(kicks)])\n",
    "        #fila.append(snares_kurtosis[i-len(kicks)])\n",
    "        #fila.append(snares_entropy[i-len(kicks)])\n",
    "        #fila.append(snares_rollOff[i-len(kicks)])\n",
    "        for mfcc in snares_mfcc[i-len(kicks)]:\n",
    "            fila.append(mfcc.mean())\n",
    "    elif i >= (len(kicks)*2) and i < (len(kicks)*3):\n",
    "        fila.append('hihat')\n",
    "        fila.append(3)\n",
    "        fila.append(hihats_centroid[i-(len(kicks)*2)])\n",
    "        fila.append(hihats_spread[i-(len(kicks)*2)])\n",
    "        fila.append(hihats_peak[i-(len(kicks)*2)])\n",
    "        fila.append(hihats_flux[i-(len(kicks)*2)])\n",
    "        #fila.append(hihats_slope[i-(len(kicks)*2)])\n",
    "        #fila.append(hihats_flatness[i-(len(kicks)*2)])\n",
    "        #fila.append(hihats_decrease[i-(len(kicks)*2)])\n",
    "        #fila.append(hihats_zero_crossing[i-(len(kicks)*2)])\n",
    "        #fila.append(hihats_kurtosis[i-(len(kicks)*2)])\n",
    "        #fila.append(hihats_entropy[i-(len(kicks)*2)])\n",
    "        #fila.append(hihats_rollOff[i-(len(kicks)*2)])\n",
    "        for mfcc in hihats_mfcc[i-(len(kicks)*2)]:\n",
    "            fila.append(mfcc.mean())\n",
    "            \n",
    "    elif i >= (len(kicks)*3) and i < (len(kicks)*4):\n",
    "        fila.append('guitar')\n",
    "        fila.append(4)\n",
    "        fila.append(guitars_centroid[i-(len(kicks)*3)])\n",
    "        fila.append(guitars_spread[i-(len(kicks)*3)])\n",
    "        fila.append(guitars_peak[i-(len(kicks)*3)])\n",
    "        fila.append(guitars_flux[i-(len(kicks)*3)])\n",
    "        #fila.append(guitars_slope[i-(len(kicks)*3)])\n",
    "        #fila.append(guitars_flatness[i-(len(kicks)*3)])\n",
    "        #fila.append(guitars_decrease[i-(len(kicks)*3)])\n",
    "        #fila.append(guitars_zero_crossing[i-(len(kicks)*3)])\n",
    "        #fila.append(guitars_kurtosis[i-(len(kicks)*3)])\n",
    "        #fila.append(guitars_entropy[i-(len(kicks)*3)])\n",
    "        #fila.append(guitars_rollOff[i-(len(kicks)*3)])\n",
    "        for mfcc in guitars_mfcc[i-(len(kicks)*3)]:\n",
    "            fila.append(mfcc.mean())\n",
    "            \n",
    "    elif i >= (len(kicks)*4):\n",
    "        fila.append('bass')\n",
    "        fila.append(5)\n",
    "        fila.append(basses_centroid[i-(len(kicks)*4)])\n",
    "        fila.append(basses_spread[i-(len(kicks)*4)])\n",
    "        fila.append(basses_peak[i-(len(kicks)*4)])\n",
    "        fila.append(basses_flux[i-(len(kicks)*4)])\n",
    "        #fila.append(guitars_slope[i-(len(kicks)*3)])\n",
    "        #fila.append(guitars_flatness[i-(len(kicks)*3)])\n",
    "        #fila.append(guitars_decrease[i-(len(kicks)*3)])\n",
    "        #fila.append(guitars_zero_crossing[i-(len(kicks)*3)])\n",
    "        #fila.append(guitars_kurtosis[i-(len(kicks)*3)])\n",
    "        #fila.append(guitars_entropy[i-(len(kicks)*3)])\n",
    "        #fila.append(guitars_rollOff[i-(len(kicks)*3)])\n",
    "        for mfcc in basses_mfcc[i-(len(kicks)*4)]:\n",
    "            fila.append(mfcc.mean())\n",
    "    \n",
    "    filas.append(fila)\n",
    "\n",
    "#datos = pd.DataFrame(filas, columns=['Instrumento', 'ID', 'Centroid', 'Spread', 'Peak', 'Zero Crossing', 'Kurtosis', 'Entropy', 'Roll Off', 'MFCC_1', 'MFCC_2', 'MFCC_3', 'MFCC_4', 'MFCC_5', 'MFCC_6', 'MFCC_7', 'MFCC_8',\n",
    "#                                     'MFCC_9', 'MFCC_10', 'MFCC_11', 'MFCC_12', 'MFCC_13'])\n",
    "datos = pd.DataFrame(filas, columns=['Instrumento', 'ID', 'Centroid', 'Spread', 'Peak', 'Flux', 'MFCC_1', 'MFCC_2', 'MFCC_3', 'MFCC_4', 'MFCC_5', 'MFCC_6', 'MFCC_7', 'MFCC_8',\n",
    "                                     'MFCC_9', 'MFCC_10', 'MFCC_11', 'MFCC_12', 'MFCC_13'])"
   ]
  },
  {
   "cell_type": "code",
   "execution_count": 49,
   "id": "d5594d78-8abe-4755-a535-ae89195a5663",
   "metadata": {},
   "outputs": [
    {
     "data": {
      "text/html": [
       "<div>\n",
       "<style scoped>\n",
       "    .dataframe tbody tr th:only-of-type {\n",
       "        vertical-align: middle;\n",
       "    }\n",
       "\n",
       "    .dataframe tbody tr th {\n",
       "        vertical-align: top;\n",
       "    }\n",
       "\n",
       "    .dataframe thead th {\n",
       "        text-align: right;\n",
       "    }\n",
       "</style>\n",
       "<table border=\"1\" class=\"dataframe\">\n",
       "  <thead>\n",
       "    <tr style=\"text-align: right;\">\n",
       "      <th></th>\n",
       "      <th>Instrumento</th>\n",
       "      <th>ID</th>\n",
       "      <th>Centroid</th>\n",
       "      <th>Spread</th>\n",
       "      <th>Peak</th>\n",
       "      <th>Flux</th>\n",
       "      <th>MFCC_1</th>\n",
       "      <th>MFCC_2</th>\n",
       "      <th>MFCC_3</th>\n",
       "      <th>MFCC_4</th>\n",
       "      <th>MFCC_5</th>\n",
       "      <th>MFCC_6</th>\n",
       "      <th>MFCC_7</th>\n",
       "      <th>MFCC_8</th>\n",
       "      <th>MFCC_9</th>\n",
       "      <th>MFCC_10</th>\n",
       "      <th>MFCC_11</th>\n",
       "      <th>MFCC_12</th>\n",
       "      <th>MFCC_13</th>\n",
       "    </tr>\n",
       "  </thead>\n",
       "  <tbody>\n",
       "    <tr>\n",
       "      <th>0</th>\n",
       "      <td>kick</td>\n",
       "      <td>1</td>\n",
       "      <td>2284.889218</td>\n",
       "      <td>4254.374655</td>\n",
       "      <td>55.799241</td>\n",
       "      <td>0.122503</td>\n",
       "      <td>-399.421125</td>\n",
       "      <td>46.399653</td>\n",
       "      <td>16.603108</td>\n",
       "      <td>26.300107</td>\n",
       "      <td>15.612092</td>\n",
       "      <td>15.320112</td>\n",
       "      <td>13.639032</td>\n",
       "      <td>10.132375</td>\n",
       "      <td>8.596697</td>\n",
       "      <td>6.806134</td>\n",
       "      <td>4.950433</td>\n",
       "      <td>4.627034</td>\n",
       "      <td>3.634569</td>\n",
       "    </tr>\n",
       "    <tr>\n",
       "      <th>1</th>\n",
       "      <td>kick</td>\n",
       "      <td>1</td>\n",
       "      <td>2362.052887</td>\n",
       "      <td>3896.753265</td>\n",
       "      <td>41.332771</td>\n",
       "      <td>0.018531</td>\n",
       "      <td>-422.942728</td>\n",
       "      <td>37.628315</td>\n",
       "      <td>21.817229</td>\n",
       "      <td>23.282166</td>\n",
       "      <td>15.530210</td>\n",
       "      <td>15.536198</td>\n",
       "      <td>13.668951</td>\n",
       "      <td>12.264386</td>\n",
       "      <td>10.924024</td>\n",
       "      <td>9.508763</td>\n",
       "      <td>8.374239</td>\n",
       "      <td>7.274329</td>\n",
       "      <td>6.836314</td>\n",
       "    </tr>\n",
       "    <tr>\n",
       "      <th>2</th>\n",
       "      <td>kick</td>\n",
       "      <td>1</td>\n",
       "      <td>4167.864858</td>\n",
       "      <td>4945.284352</td>\n",
       "      <td>55.215256</td>\n",
       "      <td>0.414578</td>\n",
       "      <td>-255.685617</td>\n",
       "      <td>34.128285</td>\n",
       "      <td>32.527628</td>\n",
       "      <td>66.378865</td>\n",
       "      <td>-1.690028</td>\n",
       "      <td>53.169769</td>\n",
       "      <td>14.025547</td>\n",
       "      <td>33.162269</td>\n",
       "      <td>13.193295</td>\n",
       "      <td>30.112873</td>\n",
       "      <td>5.838897</td>\n",
       "      <td>21.613707</td>\n",
       "      <td>10.176115</td>\n",
       "    </tr>\n",
       "    <tr>\n",
       "      <th>3</th>\n",
       "      <td>kick</td>\n",
       "      <td>1</td>\n",
       "      <td>3424.106537</td>\n",
       "      <td>4233.750465</td>\n",
       "      <td>44.798862</td>\n",
       "      <td>0.242443</td>\n",
       "      <td>-324.641389</td>\n",
       "      <td>66.238190</td>\n",
       "      <td>24.580238</td>\n",
       "      <td>51.623323</td>\n",
       "      <td>23.934731</td>\n",
       "      <td>29.565948</td>\n",
       "      <td>18.305654</td>\n",
       "      <td>20.092091</td>\n",
       "      <td>10.998468</td>\n",
       "      <td>13.782512</td>\n",
       "      <td>9.837214</td>\n",
       "      <td>8.859652</td>\n",
       "      <td>6.960671</td>\n",
       "    </tr>\n",
       "    <tr>\n",
       "      <th>4</th>\n",
       "      <td>kick</td>\n",
       "      <td>1</td>\n",
       "      <td>114.889174</td>\n",
       "      <td>193.671907</td>\n",
       "      <td>49.582396</td>\n",
       "      <td>0.008246</td>\n",
       "      <td>-453.876463</td>\n",
       "      <td>20.336812</td>\n",
       "      <td>17.541119</td>\n",
       "      <td>14.336201</td>\n",
       "      <td>11.810928</td>\n",
       "      <td>10.279063</td>\n",
       "      <td>9.383339</td>\n",
       "      <td>8.644119</td>\n",
       "      <td>7.872149</td>\n",
       "      <td>7.141908</td>\n",
       "      <td>6.520444</td>\n",
       "      <td>5.927621</td>\n",
       "      <td>5.252067</td>\n",
       "    </tr>\n",
       "    <tr>\n",
       "      <th>...</th>\n",
       "      <td>...</td>\n",
       "      <td>...</td>\n",
       "      <td>...</td>\n",
       "      <td>...</td>\n",
       "      <td>...</td>\n",
       "      <td>...</td>\n",
       "      <td>...</td>\n",
       "      <td>...</td>\n",
       "      <td>...</td>\n",
       "      <td>...</td>\n",
       "      <td>...</td>\n",
       "      <td>...</td>\n",
       "      <td>...</td>\n",
       "      <td>...</td>\n",
       "      <td>...</td>\n",
       "      <td>...</td>\n",
       "      <td>...</td>\n",
       "      <td>...</td>\n",
       "      <td>...</td>\n",
       "    </tr>\n",
       "    <tr>\n",
       "      <th>245</th>\n",
       "      <td>bass</td>\n",
       "      <td>5</td>\n",
       "      <td>1392.711641</td>\n",
       "      <td>2388.564910</td>\n",
       "      <td>52.291667</td>\n",
       "      <td>1.725444</td>\n",
       "      <td>-372.545710</td>\n",
       "      <td>149.190588</td>\n",
       "      <td>35.971335</td>\n",
       "      <td>24.520619</td>\n",
       "      <td>21.908615</td>\n",
       "      <td>13.479310</td>\n",
       "      <td>10.181712</td>\n",
       "      <td>8.408527</td>\n",
       "      <td>6.051505</td>\n",
       "      <td>4.550623</td>\n",
       "      <td>3.054637</td>\n",
       "      <td>3.393642</td>\n",
       "      <td>3.793241</td>\n",
       "    </tr>\n",
       "    <tr>\n",
       "      <th>246</th>\n",
       "      <td>bass</td>\n",
       "      <td>5</td>\n",
       "      <td>115.266097</td>\n",
       "      <td>420.035069</td>\n",
       "      <td>58.416667</td>\n",
       "      <td>0.173541</td>\n",
       "      <td>-372.063589</td>\n",
       "      <td>114.736714</td>\n",
       "      <td>80.577564</td>\n",
       "      <td>43.001134</td>\n",
       "      <td>17.397785</td>\n",
       "      <td>9.052281</td>\n",
       "      <td>12.753517</td>\n",
       "      <td>19.164865</td>\n",
       "      <td>21.824469</td>\n",
       "      <td>19.787369</td>\n",
       "      <td>15.629837</td>\n",
       "      <td>12.025017</td>\n",
       "      <td>9.914243</td>\n",
       "    </tr>\n",
       "    <tr>\n",
       "      <th>247</th>\n",
       "      <td>bass</td>\n",
       "      <td>5</td>\n",
       "      <td>723.336354</td>\n",
       "      <td>1153.721868</td>\n",
       "      <td>138.666667</td>\n",
       "      <td>0.453043</td>\n",
       "      <td>-349.191353</td>\n",
       "      <td>165.679086</td>\n",
       "      <td>51.795453</td>\n",
       "      <td>18.787295</td>\n",
       "      <td>22.232013</td>\n",
       "      <td>16.314245</td>\n",
       "      <td>11.156133</td>\n",
       "      <td>8.820340</td>\n",
       "      <td>6.236827</td>\n",
       "      <td>4.504433</td>\n",
       "      <td>3.502109</td>\n",
       "      <td>3.060554</td>\n",
       "      <td>2.711407</td>\n",
       "    </tr>\n",
       "    <tr>\n",
       "      <th>248</th>\n",
       "      <td>bass</td>\n",
       "      <td>5</td>\n",
       "      <td>293.216071</td>\n",
       "      <td>769.131316</td>\n",
       "      <td>39.166667</td>\n",
       "      <td>0.394588</td>\n",
       "      <td>-506.284869</td>\n",
       "      <td>94.520308</td>\n",
       "      <td>70.556153</td>\n",
       "      <td>50.928111</td>\n",
       "      <td>34.503708</td>\n",
       "      <td>22.587265</td>\n",
       "      <td>15.830565</td>\n",
       "      <td>11.593707</td>\n",
       "      <td>8.807990</td>\n",
       "      <td>6.381250</td>\n",
       "      <td>3.665380</td>\n",
       "      <td>1.156935</td>\n",
       "      <td>-0.702993</td>\n",
       "    </tr>\n",
       "    <tr>\n",
       "      <th>249</th>\n",
       "      <td>bass</td>\n",
       "      <td>5</td>\n",
       "      <td>140.521086</td>\n",
       "      <td>378.848236</td>\n",
       "      <td>61.750015</td>\n",
       "      <td>0.271184</td>\n",
       "      <td>-471.434364</td>\n",
       "      <td>75.827347</td>\n",
       "      <td>67.696281</td>\n",
       "      <td>56.771604</td>\n",
       "      <td>45.389550</td>\n",
       "      <td>34.990075</td>\n",
       "      <td>26.076717</td>\n",
       "      <td>18.711727</td>\n",
       "      <td>12.906560</td>\n",
       "      <td>8.665333</td>\n",
       "      <td>5.879811</td>\n",
       "      <td>4.302354</td>\n",
       "      <td>3.606664</td>\n",
       "    </tr>\n",
       "  </tbody>\n",
       "</table>\n",
       "<p>250 rows × 19 columns</p>\n",
       "</div>"
      ],
      "text/plain": [
       "    Instrumento  ID     Centroid       Spread        Peak      Flux  \\\n",
       "0          kick   1  2284.889218  4254.374655   55.799241  0.122503   \n",
       "1          kick   1  2362.052887  3896.753265   41.332771  0.018531   \n",
       "2          kick   1  4167.864858  4945.284352   55.215256  0.414578   \n",
       "3          kick   1  3424.106537  4233.750465   44.798862  0.242443   \n",
       "4          kick   1   114.889174   193.671907   49.582396  0.008246   \n",
       "..          ...  ..          ...          ...         ...       ...   \n",
       "245        bass   5  1392.711641  2388.564910   52.291667  1.725444   \n",
       "246        bass   5   115.266097   420.035069   58.416667  0.173541   \n",
       "247        bass   5   723.336354  1153.721868  138.666667  0.453043   \n",
       "248        bass   5   293.216071   769.131316   39.166667  0.394588   \n",
       "249        bass   5   140.521086   378.848236   61.750015  0.271184   \n",
       "\n",
       "         MFCC_1      MFCC_2     MFCC_3     MFCC_4     MFCC_5     MFCC_6  \\\n",
       "0   -399.421125   46.399653  16.603108  26.300107  15.612092  15.320112   \n",
       "1   -422.942728   37.628315  21.817229  23.282166  15.530210  15.536198   \n",
       "2   -255.685617   34.128285  32.527628  66.378865  -1.690028  53.169769   \n",
       "3   -324.641389   66.238190  24.580238  51.623323  23.934731  29.565948   \n",
       "4   -453.876463   20.336812  17.541119  14.336201  11.810928  10.279063   \n",
       "..          ...         ...        ...        ...        ...        ...   \n",
       "245 -372.545710  149.190588  35.971335  24.520619  21.908615  13.479310   \n",
       "246 -372.063589  114.736714  80.577564  43.001134  17.397785   9.052281   \n",
       "247 -349.191353  165.679086  51.795453  18.787295  22.232013  16.314245   \n",
       "248 -506.284869   94.520308  70.556153  50.928111  34.503708  22.587265   \n",
       "249 -471.434364   75.827347  67.696281  56.771604  45.389550  34.990075   \n",
       "\n",
       "        MFCC_7     MFCC_8     MFCC_9    MFCC_10    MFCC_11    MFCC_12  \\\n",
       "0    13.639032  10.132375   8.596697   6.806134   4.950433   4.627034   \n",
       "1    13.668951  12.264386  10.924024   9.508763   8.374239   7.274329   \n",
       "2    14.025547  33.162269  13.193295  30.112873   5.838897  21.613707   \n",
       "3    18.305654  20.092091  10.998468  13.782512   9.837214   8.859652   \n",
       "4     9.383339   8.644119   7.872149   7.141908   6.520444   5.927621   \n",
       "..         ...        ...        ...        ...        ...        ...   \n",
       "245  10.181712   8.408527   6.051505   4.550623   3.054637   3.393642   \n",
       "246  12.753517  19.164865  21.824469  19.787369  15.629837  12.025017   \n",
       "247  11.156133   8.820340   6.236827   4.504433   3.502109   3.060554   \n",
       "248  15.830565  11.593707   8.807990   6.381250   3.665380   1.156935   \n",
       "249  26.076717  18.711727  12.906560   8.665333   5.879811   4.302354   \n",
       "\n",
       "       MFCC_13  \n",
       "0     3.634569  \n",
       "1     6.836314  \n",
       "2    10.176115  \n",
       "3     6.960671  \n",
       "4     5.252067  \n",
       "..         ...  \n",
       "245   3.793241  \n",
       "246   9.914243  \n",
       "247   2.711407  \n",
       "248  -0.702993  \n",
       "249   3.606664  \n",
       "\n",
       "[250 rows x 19 columns]"
      ]
     },
     "execution_count": 49,
     "metadata": {},
     "output_type": "execute_result"
    }
   ],
   "source": [
    "datos"
   ]
  },
  {
   "cell_type": "code",
   "execution_count": 50,
   "id": "cfd4b1bd-88a5-40c5-b659-8fdc4496e0e6",
   "metadata": {},
   "outputs": [
    {
     "data": {
      "image/png": "[encoded data removed]",
      "text/plain": [
       "<Figure size 720x720 with 1 Axes>"
      ]
     },
     "metadata": {
      "needs_background": "light"
     },
     "output_type": "display_data"
    }
   ],
   "source": [
    "datos.corrwith(datos.Peak).sort_values().plot.barh(figsize=(10,10), color='cornflowerblue')\n",
    "plt.xlabel('Coeficiente de correlación de Pearson')\n",
    "plt.title('Correlación de los descriptores de audio', fontsize = 25);"
   ]
  },
  {
   "cell_type": "code",
   "execution_count": 51,
   "id": "e5d805cd-4ef2-45c1-bb54-085d3eb13e22",
   "metadata": {},
   "outputs": [
    {
     "data": {
      "image/png": "[encoded data removed]",
      "text/plain": [
       "<Figure size 1296x720 with 2 Axes>"
      ]
     },
     "metadata": {
      "needs_background": "light"
     },
     "output_type": "display_data"
    }
   ],
   "source": [
    "plt.figure(figsize=(18,10))\n",
    "corr_df = datos.corr()\n",
    "mask = np.triu(np.ones_like(corr_df))\n",
    "sns.heatmap(datos.corr(),cmap='coolwarm',annot=True, annot_kws={'fontsize':10}, mask=mask, vmin=-1, vmax=1);"
   ]
  },
  {
   "cell_type": "markdown",
   "id": "2131e2e1-1b71-44ab-a265-6ca2b9f46bc7",
   "metadata": {},
   "source": [
    "### SEE SOME DATA"
   ]
  },
  {
   "cell_type": "code",
   "execution_count": 52,
   "id": "1474fd19-370a-4f6d-b518-087edc0567bd",
   "metadata": {},
   "outputs": [],
   "source": [
    "plt.style.use(\"seaborn-poster\")"
   ]
  },
  {
   "cell_type": "code",
   "execution_count": 53,
   "id": "7ee191af-a114-4489-a437-ddcf83028992",
   "metadata": {},
   "outputs": [
    {
     "data": {
      "image/png": "[encoded data removed]",
      "text/plain": [
       "<Figure size 432x432 with 1 Axes>"
      ]
     },
     "metadata": {
      "needs_background": "light"
     },
     "output_type": "display_data"
    }
   ],
   "source": [
    "datos[['Peak', 'Centroid']].plot.scatter(x=['Peak'], y=['Centroid'], alpha=1, figsize=(6,6));"
   ]
  },
  {
   "cell_type": "markdown",
   "id": "afff4612-85d5-440d-971f-17a4a8645d0f",
   "metadata": {},
   "source": [
    "### DEFINE X NAMES FOR TRAINING"
   ]
  },
  {
   "cell_type": "code",
   "execution_count": 54,
   "id": "da910548-279f-4431-a99f-68cff37156ca",
   "metadata": {},
   "outputs": [],
   "source": [
    "x_names = ['Centroid', 'Spread', 'Peak', 'Flux', 'MFCC_1', 'MFCC_2', 'MFCC_3', 'MFCC_4', 'MFCC_5', 'MFCC_6', 'MFCC_7', 'MFCC_8', 'MFCC_9', 'MFCC_10', 'MFCC_11', 'MFCC_12', 'MFCC_13']"
   ]
  },
  {
   "cell_type": "markdown",
   "id": "1fc33d04-2906-40e2-ba3a-1cb1c6dd35a3",
   "metadata": {},
   "source": [
    "### SPLIT TRAIN AND TEST DATA"
   ]
  },
  {
   "cell_type": "code",
   "execution_count": 55,
   "id": "08bdc4d2-eee1-47bf-a5c1-5a89d56ddf20",
   "metadata": {},
   "outputs": [],
   "source": [
    "x_train, x_test, y_train, y_test = train_test_split(datos[x_names], datos.ID, test_size=0.2, random_state=69)"
   ]
  },
  {
   "cell_type": "code",
   "execution_count": 56,
   "id": "3cb79929-313e-41d3-b606-f30f19b21fac",
   "metadata": {},
   "outputs": [
    {
     "data": {
      "text/plain": [
       "GridSearchCV(cv=3, estimator=DecisionTreeClassifier(),\n",
       "             param_grid={'max_depth': range(2, 15)})"
      ]
     },
     "execution_count": 56,
     "metadata": {},
     "output_type": "execute_result"
    }
   ],
   "source": [
    "from sklearn.model_selection import GridSearchCV\n",
    "param = {'max_depth':range(2,15)} #, 'criterion':['gini','entropy']} # a modo de diccionario los metaparemetros y valores\n",
    "dt = DecisionTreeClassifier() # estimador el modelo\n",
    "clf =  GridSearchCV(dt, param, cv=3) # pendiente explicar Cross-Validation\n",
    "clf.fit(x_train,y_train)"
   ]
  },
  {
   "cell_type": "code",
   "execution_count": 57,
   "id": "f94598b4-5898-4035-bfff-20b26082c76e",
   "metadata": {},
   "outputs": [
    {
     "data": {
      "text/html": [
       "<div>\n",
       "<style scoped>\n",
       "    .dataframe tbody tr th:only-of-type {\n",
       "        vertical-align: middle;\n",
       "    }\n",
       "\n",
       "    .dataframe tbody tr th {\n",
       "        vertical-align: top;\n",
       "    }\n",
       "\n",
       "    .dataframe thead th {\n",
       "        text-align: right;\n",
       "    }\n",
       "</style>\n",
       "<table border=\"1\" class=\"dataframe\">\n",
       "  <thead>\n",
       "    <tr style=\"text-align: right;\">\n",
       "      <th></th>\n",
       "      <th>mean_fit_time</th>\n",
       "      <th>std_fit_time</th>\n",
       "      <th>mean_score_time</th>\n",
       "      <th>std_score_time</th>\n",
       "      <th>param_max_depth</th>\n",
       "      <th>params</th>\n",
       "      <th>split0_test_score</th>\n",
       "      <th>split1_test_score</th>\n",
       "      <th>split2_test_score</th>\n",
       "      <th>mean_test_score</th>\n",
       "      <th>std_test_score</th>\n",
       "      <th>rank_test_score</th>\n",
       "    </tr>\n",
       "  </thead>\n",
       "  <tbody>\n",
       "    <tr>\n",
       "      <th>0</th>\n",
       "      <td>0.002786</td>\n",
       "      <td>0.000570</td>\n",
       "      <td>0.001308</td>\n",
       "      <td>0.000135</td>\n",
       "      <td>2</td>\n",
       "      <td>{'max_depth': 2}</td>\n",
       "      <td>0.597015</td>\n",
       "      <td>0.641791</td>\n",
       "      <td>0.560606</td>\n",
       "      <td>0.599804</td>\n",
       "      <td>0.033202</td>\n",
       "      <td>13</td>\n",
       "    </tr>\n",
       "    <tr>\n",
       "      <th>1</th>\n",
       "      <td>0.002595</td>\n",
       "      <td>0.000089</td>\n",
       "      <td>0.001415</td>\n",
       "      <td>0.000156</td>\n",
       "      <td>3</td>\n",
       "      <td>{'max_depth': 3}</td>\n",
       "      <td>0.895522</td>\n",
       "      <td>0.761194</td>\n",
       "      <td>0.803030</td>\n",
       "      <td>0.819916</td>\n",
       "      <td>0.056124</td>\n",
       "      <td>5</td>\n",
       "    </tr>\n",
       "    <tr>\n",
       "      <th>2</th>\n",
       "      <td>0.002343</td>\n",
       "      <td>0.000106</td>\n",
       "      <td>0.001040</td>\n",
       "      <td>0.000062</td>\n",
       "      <td>4</td>\n",
       "      <td>{'max_depth': 4}</td>\n",
       "      <td>0.910448</td>\n",
       "      <td>0.835821</td>\n",
       "      <td>0.787879</td>\n",
       "      <td>0.844716</td>\n",
       "      <td>0.050432</td>\n",
       "      <td>1</td>\n",
       "    </tr>\n",
       "    <tr>\n",
       "      <th>3</th>\n",
       "      <td>0.002248</td>\n",
       "      <td>0.000134</td>\n",
       "      <td>0.001061</td>\n",
       "      <td>0.000061</td>\n",
       "      <td>5</td>\n",
       "      <td>{'max_depth': 5}</td>\n",
       "      <td>0.910448</td>\n",
       "      <td>0.850746</td>\n",
       "      <td>0.772727</td>\n",
       "      <td>0.844640</td>\n",
       "      <td>0.056390</td>\n",
       "      <td>2</td>\n",
       "    </tr>\n",
       "    <tr>\n",
       "      <th>4</th>\n",
       "      <td>0.002207</td>\n",
       "      <td>0.000093</td>\n",
       "      <td>0.001053</td>\n",
       "      <td>0.000199</td>\n",
       "      <td>6</td>\n",
       "      <td>{'max_depth': 6}</td>\n",
       "      <td>0.910448</td>\n",
       "      <td>0.805970</td>\n",
       "      <td>0.757576</td>\n",
       "      <td>0.824665</td>\n",
       "      <td>0.063794</td>\n",
       "      <td>4</td>\n",
       "    </tr>\n",
       "    <tr>\n",
       "      <th>5</th>\n",
       "      <td>0.002193</td>\n",
       "      <td>0.000477</td>\n",
       "      <td>0.001268</td>\n",
       "      <td>0.000651</td>\n",
       "      <td>7</td>\n",
       "      <td>{'max_depth': 7}</td>\n",
       "      <td>0.895522</td>\n",
       "      <td>0.805970</td>\n",
       "      <td>0.772727</td>\n",
       "      <td>0.824740</td>\n",
       "      <td>0.051858</td>\n",
       "      <td>3</td>\n",
       "    </tr>\n",
       "    <tr>\n",
       "      <th>6</th>\n",
       "      <td>0.001695</td>\n",
       "      <td>0.000102</td>\n",
       "      <td>0.000717</td>\n",
       "      <td>0.000041</td>\n",
       "      <td>8</td>\n",
       "      <td>{'max_depth': 8}</td>\n",
       "      <td>0.910448</td>\n",
       "      <td>0.805970</td>\n",
       "      <td>0.742424</td>\n",
       "      <td>0.819614</td>\n",
       "      <td>0.069270</td>\n",
       "      <td>8</td>\n",
       "    </tr>\n",
       "    <tr>\n",
       "      <th>7</th>\n",
       "      <td>0.001607</td>\n",
       "      <td>0.000062</td>\n",
       "      <td>0.000709</td>\n",
       "      <td>0.000053</td>\n",
       "      <td>9</td>\n",
       "      <td>{'max_depth': 9}</td>\n",
       "      <td>0.865672</td>\n",
       "      <td>0.820896</td>\n",
       "      <td>0.757576</td>\n",
       "      <td>0.814714</td>\n",
       "      <td>0.044346</td>\n",
       "      <td>10</td>\n",
       "    </tr>\n",
       "    <tr>\n",
       "      <th>8</th>\n",
       "      <td>0.001468</td>\n",
       "      <td>0.000054</td>\n",
       "      <td>0.000635</td>\n",
       "      <td>0.000010</td>\n",
       "      <td>10</td>\n",
       "      <td>{'max_depth': 10}</td>\n",
       "      <td>0.910448</td>\n",
       "      <td>0.791045</td>\n",
       "      <td>0.757576</td>\n",
       "      <td>0.819689</td>\n",
       "      <td>0.065614</td>\n",
       "      <td>7</td>\n",
       "    </tr>\n",
       "    <tr>\n",
       "      <th>9</th>\n",
       "      <td>0.001545</td>\n",
       "      <td>0.000092</td>\n",
       "      <td>0.000737</td>\n",
       "      <td>0.000105</td>\n",
       "      <td>11</td>\n",
       "      <td>{'max_depth': 11}</td>\n",
       "      <td>0.865672</td>\n",
       "      <td>0.791045</td>\n",
       "      <td>0.803030</td>\n",
       "      <td>0.819916</td>\n",
       "      <td>0.032722</td>\n",
       "      <td>5</td>\n",
       "    </tr>\n",
       "    <tr>\n",
       "      <th>10</th>\n",
       "      <td>0.001623</td>\n",
       "      <td>0.000093</td>\n",
       "      <td>0.000689</td>\n",
       "      <td>0.000069</td>\n",
       "      <td>12</td>\n",
       "      <td>{'max_depth': 12}</td>\n",
       "      <td>0.865672</td>\n",
       "      <td>0.791045</td>\n",
       "      <td>0.742424</td>\n",
       "      <td>0.799714</td>\n",
       "      <td>0.050688</td>\n",
       "      <td>12</td>\n",
       "    </tr>\n",
       "    <tr>\n",
       "      <th>11</th>\n",
       "      <td>0.001462</td>\n",
       "      <td>0.000038</td>\n",
       "      <td>0.000634</td>\n",
       "      <td>0.000026</td>\n",
       "      <td>13</td>\n",
       "      <td>{'max_depth': 13}</td>\n",
       "      <td>0.850746</td>\n",
       "      <td>0.820896</td>\n",
       "      <td>0.772727</td>\n",
       "      <td>0.814790</td>\n",
       "      <td>0.032142</td>\n",
       "      <td>9</td>\n",
       "    </tr>\n",
       "    <tr>\n",
       "      <th>12</th>\n",
       "      <td>0.001434</td>\n",
       "      <td>0.000063</td>\n",
       "      <td>0.000673</td>\n",
       "      <td>0.000112</td>\n",
       "      <td>14</td>\n",
       "      <td>{'max_depth': 14}</td>\n",
       "      <td>0.880597</td>\n",
       "      <td>0.805970</td>\n",
       "      <td>0.757576</td>\n",
       "      <td>0.814714</td>\n",
       "      <td>0.050602</td>\n",
       "      <td>10</td>\n",
       "    </tr>\n",
       "  </tbody>\n",
       "</table>\n",
       "</div>"
      ],
      "text/plain": [
       "    mean_fit_time  std_fit_time  mean_score_time  std_score_time  \\\n",
       "0        0.002786      0.000570         0.001308        0.000135   \n",
       "1        0.002595      0.000089         0.001415        0.000156   \n",
       "2        0.002343      0.000106         0.001040        0.000062   \n",
       "3        0.002248      0.000134         0.001061        0.000061   \n",
       "4        0.002207      0.000093         0.001053        0.000199   \n",
       "5        0.002193      0.000477         0.001268        0.000651   \n",
       "6        0.001695      0.000102         0.000717        0.000041   \n",
       "7        0.001607      0.000062         0.000709        0.000053   \n",
       "8        0.001468      0.000054         0.000635        0.000010   \n",
       "9        0.001545      0.000092         0.000737        0.000105   \n",
       "10       0.001623      0.000093         0.000689        0.000069   \n",
       "11       0.001462      0.000038         0.000634        0.000026   \n",
       "12       0.001434      0.000063         0.000673        0.000112   \n",
       "\n",
       "   param_max_depth             params  split0_test_score  split1_test_score  \\\n",
       "0                2   {'max_depth': 2}           0.597015           0.641791   \n",
       "1                3   {'max_depth': 3}           0.895522           0.761194   \n",
       "2                4   {'max_depth': 4}           0.910448           0.835821   \n",
       "3                5   {'max_depth': 5}           0.910448           0.850746   \n",
       "4                6   {'max_depth': 6}           0.910448           0.805970   \n",
       "5                7   {'max_depth': 7}           0.895522           0.805970   \n",
       "6                8   {'max_depth': 8}           0.910448           0.805970   \n",
       "7                9   {'max_depth': 9}           0.865672           0.820896   \n",
       "8               10  {'max_depth': 10}           0.910448           0.791045   \n",
       "9               11  {'max_depth': 11}           0.865672           0.791045   \n",
       "10              12  {'max_depth': 12}           0.865672           0.791045   \n",
       "11              13  {'max_depth': 13}           0.850746           0.820896   \n",
       "12              14  {'max_depth': 14}           0.880597           0.805970   \n",
       "\n",
       "    split2_test_score  mean_test_score  std_test_score  rank_test_score  \n",
       "0            0.560606         0.599804        0.033202               13  \n",
       "1            0.803030         0.819916        0.056124                5  \n",
       "2            0.787879         0.844716        0.050432                1  \n",
       "3            0.772727         0.844640        0.056390                2  \n",
       "4            0.757576         0.824665        0.063794                4  \n",
       "5            0.772727         0.824740        0.051858                3  \n",
       "6            0.742424         0.819614        0.069270                8  \n",
       "7            0.757576         0.814714        0.044346               10  \n",
       "8            0.757576         0.819689        0.065614                7  \n",
       "9            0.803030         0.819916        0.032722                5  \n",
       "10           0.742424         0.799714        0.050688               12  \n",
       "11           0.772727         0.814790        0.032142                9  \n",
       "12           0.757576         0.814714        0.050602               10  "
      ]
     },
     "execution_count": 57,
     "metadata": {},
     "output_type": "execute_result"
    }
   ],
   "source": [
    "cv_result = pd.DataFrame(clf.cv_results_)\n",
    "cv_result#[cv_result.rank_test_score==1]"
   ]
  },
  {
   "cell_type": "markdown",
   "id": "a8763660-b1f5-4272-b9d6-750893b0a07d",
   "metadata": {},
   "source": [
    "## TRAIN WITH DECISIONS TREE"
   ]
  },
  {
   "cell_type": "code",
   "execution_count": 70,
   "id": "8b2f7190-1029-4045-97e6-e64ba064e339",
   "metadata": {},
   "outputs": [
    {
     "data": {
      "text/plain": [
       "DecisionTreeClassifier(max_depth=7)"
      ]
     },
     "execution_count": 70,
     "metadata": {},
     "output_type": "execute_result"
    }
   ],
   "source": [
    "model_tree = DecisionTreeClassifier(max_depth=7)\n",
    "model_tree.fit(x_train,y_train)"
   ]
  },
  {
   "cell_type": "code",
   "execution_count": 71,
   "id": "b7a561e3-e123-4269-a1be-56c861827afa",
   "metadata": {},
   "outputs": [
    {
     "data": {
      "image/png": "[encoded data removed]",
      "text/plain": [
       "<Figure size 921.6x633.6 with 1 Axes>"
      ]
     },
     "metadata": {
      "needs_background": "light"
     },
     "output_type": "display_data"
    }
   ],
   "source": [
    "plt.figure()\n",
    "plot_tree(model_tree, filled=True, feature_names= x_names)\n",
    "plt.show()"
   ]
  },
  {
   "cell_type": "markdown",
   "id": "d0b42fc4-351f-4544-a6bf-597a30b4cd0b",
   "metadata": {},
   "source": [
    "### MAKE AND TEST PREDICTIONS"
   ]
  },
  {
   "cell_type": "code",
   "execution_count": 72,
   "id": "f019efe7-3e5b-464d-afa7-1b1174e4797b",
   "metadata": {},
   "outputs": [
    {
     "data": {
      "text/plain": [
       "array([2, 3, 1, 4, 4, 3, 5, 4, 2, 2, 4, 4, 3, 2, 4, 5, 5, 5, 1, 4, 1, 2,\n",
       "       1, 1, 5, 1, 5, 3, 4, 2, 5, 4, 1, 3, 4, 2, 5, 3, 4, 1, 1, 3, 5, 3,\n",
       "       5, 3, 3, 3, 5, 3])"
      ]
     },
     "execution_count": 72,
     "metadata": {},
     "output_type": "execute_result"
    }
   ],
   "source": [
    "y_results_tree = model_tree.predict(x_test)\n",
    "y_results_tree"
   ]
  },
  {
   "cell_type": "code",
   "execution_count": 73,
   "id": "a80b0aff-98a7-4d8b-9074-1dc7a1ccf752",
   "metadata": {},
   "outputs": [
    {
     "name": "stdout",
     "output_type": "stream",
     "text": [
      "De 8 kicks 8 predijo como kick\n",
      "De 7 Snares 5 predijo como snare\n",
      "De 14 Hihats 12 predijo como hihat\n",
      "De 10 Guitars 9 predijo como guitar\n",
      "De 11 Basses 11 predijo como Bass\n"
     ]
    }
   ],
   "source": [
    "kicksAcertados, numKicks = 0, 0\n",
    "snaresAcertados, numSnares = 0, 0\n",
    "hihatAcertados, numHihat = 0, 0\n",
    "guitarAcertados, numGuitar = 0, 0\n",
    "bassAcertados, numBass = 0, 0\n",
    "\n",
    "for num in range(len(y_results_tree)):\n",
    "    if x_test.index[num] <= 49:\n",
    "        if y_results_tree[num] == 1:\n",
    "            kicksAcertados += 1\n",
    "        numKicks += 1\n",
    "            \n",
    "    elif x_test.index[num] > 49 and x_test.index[num] <= 99:\n",
    "        if y_results_tree[num] == 2:\n",
    "            snaresAcertados += 1\n",
    "        numSnares += 1\n",
    "            \n",
    "    elif x_test.index[num] > 99 and x_test.index[num] <= 149:\n",
    "        if y_results_tree[num] == 3:\n",
    "            hihatAcertados += 1\n",
    "        numHihat += 1\n",
    "        \n",
    "    elif x_test.index[num] > 149 and x_test.index[num] <= 199:\n",
    "        if y_results_tree[num] == 4:\n",
    "            guitarAcertados += 1\n",
    "        numGuitar += 1\n",
    "        \n",
    "    elif x_test.index[num] > 199:\n",
    "        if y_results_tree[num] == 5:\n",
    "            bassAcertados += 1\n",
    "        numBass += 1\n",
    "\n",
    "print(\"De\", numKicks, \"kicks\", kicksAcertados, \"predijo como kick\")\n",
    "print(\"De\", numSnares, \"Snares\", snaresAcertados, \"predijo como snare\")\n",
    "print(\"De\", numHihat, \"Hihats\", hihatAcertados, \"predijo como hihat\")\n",
    "print(\"De\", numGuitar, \"Guitars\", guitarAcertados, \"predijo como guitar\")\n",
    "print(\"De\", numBass, \"Basses\", bassAcertados, \"predijo como Bass\")"
   ]
  },
  {
   "cell_type": "code",
   "execution_count": 74,
   "id": "1e14eb13-8f5a-4436-970b-ce7d0da13224",
   "metadata": {},
   "outputs": [
    {
     "name": "stdout",
     "output_type": "stream",
     "text": [
      "              precision    recall  f1-score   support\n",
      "\n",
      "           1       0.89      1.00      0.94         8\n",
      "           2       0.71      0.71      0.71         7\n",
      "           3       1.00      0.86      0.92        14\n",
      "           4       0.82      0.90      0.86        10\n",
      "           5       1.00      1.00      1.00        11\n",
      "\n",
      "    accuracy                           0.90        50\n",
      "   macro avg       0.88      0.89      0.89        50\n",
      "weighted avg       0.91      0.90      0.90        50\n",
      "\n"
     ]
    }
   ],
   "source": [
    "print(classification_report(y_test,y_results_tree))"
   ]
  },
  {
   "cell_type": "code",
   "execution_count": 75,
   "id": "ff026e19-0194-4d15-b2bb-2a34c6ded650",
   "metadata": {},
   "outputs": [
    {
     "data": {
      "image/png": "[encoded data removed]",
      "text/plain": [
       "<Figure size 504x504 with 2 Axes>"
      ]
     },
     "metadata": {
      "needs_background": "light"
     },
     "output_type": "display_data"
    }
   ],
   "source": [
    "skplt.metrics.plot_confusion_matrix(y_test, y_results_tree, normalize = True, figsize=(7,7),text_fontsize='xx-large')\n",
    "plt.title('Instrumentos', fontsize = 20);"
   ]
  },
  {
   "cell_type": "code",
   "execution_count": 32,
   "id": "2d9eab5b-58be-4a06-93c9-10728c7a80b7",
   "metadata": {},
   "outputs": [
    {
     "data": {
      "image/png": "[encoded data removed]",
      "text/plain": [
       "<Figure size 432x504 with 1 Axes>"
      ]
     },
     "metadata": {
      "needs_background": "light"
     },
     "output_type": "display_data"
    }
   ],
   "source": [
    "#DF de variables mas importantes\n",
    "f_imp = pd.DataFrame(model_tree.feature_importances_,\n",
    "                     index=x_names, columns=['imp'])\n",
    "#calculo de importancia relativa\n",
    "f_imp['imp_rel'] = (f_imp/f_imp.max()*100)\n",
    "#plot de importancia de variables\n",
    "f_imp.sort_values('imp_rel',ascending=True).imp_rel.plot.barh(figsize=(6,7),\n",
    "                                                              title='Importancia de Variables',color='magenta')\n",
    "plt.xlabel('Importancia relativa');"
   ]
  },
  {
   "cell_type": "code",
   "execution_count": 127,
   "id": "82b20ab3-0a5a-4a4a-92df-e5ffe92245f9",
   "metadata": {},
   "outputs": [
    {
     "ename": "TypeError",
     "evalue": "'(slice(None, None, None), 0)' is an invalid key",
     "output_type": "error",
     "traceback": [
      "\u001b[0;31m---------------------------------------------------------------------------\u001b[0m",
      "\u001b[0;31mTypeError\u001b[0m                                 Traceback (most recent call last)",
      "\u001b[0;32m/var/folders/2w/7_83prsd2p35qjvbq_mrcyfh0000gn/T/ipykernel_65876/1698606078.py\u001b[0m in \u001b[0;36m<module>\u001b[0;34m\u001b[0m\n\u001b[1;32m     13\u001b[0m     \u001b[0mplt\u001b[0m\u001b[0;34m.\u001b[0m\u001b[0msubplot\u001b[0m\u001b[0;34m(\u001b[0m\u001b[0;36m2\u001b[0m\u001b[0;34m,\u001b[0m \u001b[0;36m3\u001b[0m\u001b[0;34m,\u001b[0m \u001b[0mpairidx\u001b[0m \u001b[0;34m+\u001b[0m \u001b[0;36m1\u001b[0m\u001b[0;34m)\u001b[0m \u001b[0;31m# subplot es para desplegar distintas gráficas de forma secuencial\u001b[0m\u001b[0;34m\u001b[0m\u001b[0;34m\u001b[0m\u001b[0m\n\u001b[1;32m     14\u001b[0m \u001b[0;34m\u001b[0m\u001b[0m\n\u001b[0;32m---> 15\u001b[0;31m     \u001b[0mx_min\u001b[0m\u001b[0;34m,\u001b[0m \u001b[0mx_max\u001b[0m \u001b[0;34m=\u001b[0m \u001b[0mx_train\u001b[0m\u001b[0;34m[\u001b[0m\u001b[0;34m:\u001b[0m\u001b[0;34m,\u001b[0m \u001b[0;36m0\u001b[0m\u001b[0;34m]\u001b[0m\u001b[0;34m.\u001b[0m\u001b[0mmin\u001b[0m\u001b[0;34m(\u001b[0m\u001b[0;34m)\u001b[0m \u001b[0;34m-\u001b[0m \u001b[0;36m1\u001b[0m\u001b[0;34m,\u001b[0m \u001b[0mx_train\u001b[0m\u001b[0;34m[\u001b[0m\u001b[0;34m:\u001b[0m\u001b[0;34m,\u001b[0m \u001b[0;36m0\u001b[0m\u001b[0;34m]\u001b[0m\u001b[0;34m.\u001b[0m\u001b[0mmax\u001b[0m\u001b[0;34m(\u001b[0m\u001b[0;34m)\u001b[0m \u001b[0;34m+\u001b[0m \u001b[0;36m1\u001b[0m \u001b[0;31m# Aquí está generando el mallado sobre el que se construirá el gráfico\u001b[0m\u001b[0;34m\u001b[0m\u001b[0;34m\u001b[0m\u001b[0m\n\u001b[0m\u001b[1;32m     16\u001b[0m     \u001b[0my_min\u001b[0m\u001b[0;34m,\u001b[0m \u001b[0my_max\u001b[0m \u001b[0;34m=\u001b[0m \u001b[0mx_train\u001b[0m\u001b[0;34m[\u001b[0m\u001b[0;34m:\u001b[0m\u001b[0;34m,\u001b[0m \u001b[0;36m1\u001b[0m\u001b[0;34m]\u001b[0m\u001b[0;34m.\u001b[0m\u001b[0mmin\u001b[0m\u001b[0;34m(\u001b[0m\u001b[0;34m)\u001b[0m \u001b[0;34m-\u001b[0m \u001b[0;36m1\u001b[0m\u001b[0;34m,\u001b[0m \u001b[0mx_train\u001b[0m\u001b[0;34m[\u001b[0m\u001b[0;34m:\u001b[0m\u001b[0;34m,\u001b[0m \u001b[0;36m1\u001b[0m\u001b[0;34m]\u001b[0m\u001b[0;34m.\u001b[0m\u001b[0mmax\u001b[0m\u001b[0;34m(\u001b[0m\u001b[0;34m)\u001b[0m \u001b[0;34m+\u001b[0m \u001b[0;36m1\u001b[0m\u001b[0;34m\u001b[0m\u001b[0;34m\u001b[0m\u001b[0m\n\u001b[1;32m     17\u001b[0m     xx, yy = np.meshgrid(np.arange(x_min, x_max, plot_step),\n",
      "\u001b[0;32m/opt/anaconda3/lib/python3.9/site-packages/pandas/core/frame.py\u001b[0m in \u001b[0;36m__getitem__\u001b[0;34m(self, key)\u001b[0m\n\u001b[1;32m   3456\u001b[0m             \u001b[0;32mif\u001b[0m \u001b[0mself\u001b[0m\u001b[0;34m.\u001b[0m\u001b[0mcolumns\u001b[0m\u001b[0;34m.\u001b[0m\u001b[0mnlevels\u001b[0m \u001b[0;34m>\u001b[0m \u001b[0;36m1\u001b[0m\u001b[0;34m:\u001b[0m\u001b[0;34m\u001b[0m\u001b[0;34m\u001b[0m\u001b[0m\n\u001b[1;32m   3457\u001b[0m                 \u001b[0;32mreturn\u001b[0m \u001b[0mself\u001b[0m\u001b[0;34m.\u001b[0m\u001b[0m_getitem_multilevel\u001b[0m\u001b[0;34m(\u001b[0m\u001b[0mkey\u001b[0m\u001b[0;34m)\u001b[0m\u001b[0;34m\u001b[0m\u001b[0;34m\u001b[0m\u001b[0m\n\u001b[0;32m-> 3458\u001b[0;31m             \u001b[0mindexer\u001b[0m \u001b[0;34m=\u001b[0m \u001b[0mself\u001b[0m\u001b[0;34m.\u001b[0m\u001b[0mcolumns\u001b[0m\u001b[0;34m.\u001b[0m\u001b[0mget_loc\u001b[0m\u001b[0;34m(\u001b[0m\u001b[0mkey\u001b[0m\u001b[0;34m)\u001b[0m\u001b[0;34m\u001b[0m\u001b[0;34m\u001b[0m\u001b[0m\n\u001b[0m\u001b[1;32m   3459\u001b[0m             \u001b[0;32mif\u001b[0m \u001b[0mis_integer\u001b[0m\u001b[0;34m(\u001b[0m\u001b[0mindexer\u001b[0m\u001b[0;34m)\u001b[0m\u001b[0;34m:\u001b[0m\u001b[0;34m\u001b[0m\u001b[0;34m\u001b[0m\u001b[0m\n\u001b[1;32m   3460\u001b[0m                 \u001b[0mindexer\u001b[0m \u001b[0;34m=\u001b[0m \u001b[0;34m[\u001b[0m\u001b[0mindexer\u001b[0m\u001b[0;34m]\u001b[0m\u001b[0;34m\u001b[0m\u001b[0;34m\u001b[0m\u001b[0m\n",
      "\u001b[0;32m/opt/anaconda3/lib/python3.9/site-packages/pandas/core/indexes/base.py\u001b[0m in \u001b[0;36mget_loc\u001b[0;34m(self, key, method, tolerance)\u001b[0m\n\u001b[1;32m   3359\u001b[0m             \u001b[0mcasted_key\u001b[0m \u001b[0;34m=\u001b[0m \u001b[0mself\u001b[0m\u001b[0;34m.\u001b[0m\u001b[0m_maybe_cast_indexer\u001b[0m\u001b[0;34m(\u001b[0m\u001b[0mkey\u001b[0m\u001b[0;34m)\u001b[0m\u001b[0;34m\u001b[0m\u001b[0;34m\u001b[0m\u001b[0m\n\u001b[1;32m   3360\u001b[0m             \u001b[0;32mtry\u001b[0m\u001b[0;34m:\u001b[0m\u001b[0;34m\u001b[0m\u001b[0;34m\u001b[0m\u001b[0m\n\u001b[0;32m-> 3361\u001b[0;31m                 \u001b[0;32mreturn\u001b[0m \u001b[0mself\u001b[0m\u001b[0;34m.\u001b[0m\u001b[0m_engine\u001b[0m\u001b[0;34m.\u001b[0m\u001b[0mget_loc\u001b[0m\u001b[0;34m(\u001b[0m\u001b[0mcasted_key\u001b[0m\u001b[0;34m)\u001b[0m\u001b[0;34m\u001b[0m\u001b[0;34m\u001b[0m\u001b[0m\n\u001b[0m\u001b[1;32m   3362\u001b[0m             \u001b[0;32mexcept\u001b[0m \u001b[0mKeyError\u001b[0m \u001b[0;32mas\u001b[0m \u001b[0merr\u001b[0m\u001b[0;34m:\u001b[0m\u001b[0;34m\u001b[0m\u001b[0;34m\u001b[0m\u001b[0m\n\u001b[1;32m   3363\u001b[0m                 \u001b[0;32mraise\u001b[0m \u001b[0mKeyError\u001b[0m\u001b[0;34m(\u001b[0m\u001b[0mkey\u001b[0m\u001b[0;34m)\u001b[0m \u001b[0;32mfrom\u001b[0m \u001b[0merr\u001b[0m\u001b[0;34m\u001b[0m\u001b[0;34m\u001b[0m\u001b[0m\n",
      "\u001b[0;32m/opt/anaconda3/lib/python3.9/site-packages/pandas/_libs/index.pyx\u001b[0m in \u001b[0;36mpandas._libs.index.IndexEngine.get_loc\u001b[0;34m()\u001b[0m\n",
      "\u001b[0;32m/opt/anaconda3/lib/python3.9/site-packages/pandas/_libs/index.pyx\u001b[0m in \u001b[0;36mpandas._libs.index.IndexEngine.get_loc\u001b[0;34m()\u001b[0m\n",
      "\u001b[0;31mTypeError\u001b[0m: '(slice(None, None, None), 0)' is an invalid key"
     ]
    },
    {
     "data": {
      "image/png": "[encoded data removed]",
      "text/plain": [
       "<Figure size 921.6x633.6 with 1 Axes>"
      ]
     },
     "metadata": {
      "needs_background": "light"
     },
     "output_type": "display_data"
    }
   ],
   "source": [
    "# Parameters\n",
    "n_classes = 3 # número de clases a predecir\n",
    "plot_colors = \"ryb\" #colores que usarán para pintar las fronteras y regiones\n",
    "plot_step = 0.02 # resolución\n",
    "max_depth_n = 7 # máxima profundidad permitida por el algoritmo\n",
    "\n",
    "for pairidx, pair in enumerate([[1, 3], [2, 3],[1,2]]): # El par de columnas que se usará para entrenar cada modelo\n",
    "\n",
    "    # Train\n",
    "    clf = DecisionTreeClassifier(max_depth=max_depth_n).fit(x_train,y_train) # Se entrena el modelo con los parámetros especificados\n",
    "\n",
    "    # Plot the decision boundary\n",
    "    plt.subplot(2, 3, pairidx + 1) # subplot es para desplegar distintas gráficas de forma secuencial\n",
    "\n",
    "    x_min, x_max = x_train[:, 0].min() - 1, x_train[:, 0].max() + 1 # Aquí está generando el mallado sobre el que se construirá el gráfico\n",
    "    y_min, y_max = x_train[:, 1].min() - 1, x_train[:, 1].max() + 1\n",
    "    xx, yy = np.meshgrid(np.arange(x_min, x_max, plot_step),\n",
    "                         np.arange(y_min, y_max, plot_step))\n",
    "    plt.tight_layout(h_pad=0.5, w_pad=0.5, pad=2.5)\n",
    "\n",
    "    Z = clf.predict(np.c_[xx.ravel(), yy.ravel()]) # Hace predicciones sobre el mallado para determinar las zonas de clasificación\n",
    "    Z = Z.reshape(xx.shape)\n",
    "    cs = plt.contourf(xx, yy, Z, cmap=plt.cm.RdYlBu) # Dibuja los contornos y asigna los colores correspondientes\n",
    "\n",
    "    plt.xlabel(iris.feature_names[pair[0]]) # le pone las etiquetas correspondientes a los ejes\n",
    "    plt.ylabel(iris.feature_names[pair[1]])\n",
    "\n",
    "    # Plot the training points\n",
    "    for i, color in zip(range(n_classes), plot_colors):\n",
    "        idx = np.where(y == i)\n",
    "        plt.scatter(X[idx, 0], X[idx, 1], c=color, label=iris.target_names[i],\n",
    "                    cmap=plt.cm.RdYlBu, edgecolor='black', s=15) # Agrega el gráfico de dispersión de los puntos con los que entrenó el modelo\n",
    "\n",
    "plt.suptitle(\"Decision surface of a decision tree using paired features\")\n",
    "#plt.legend(loc='best', borderpad=0, handletextpad=0)\n",
    "plt.axis(\"tight\");"
   ]
  },
  {
   "cell_type": "markdown",
   "id": "b090d51d-8a26-4fca-9391-1271a8419d63",
   "metadata": {},
   "source": [
    "## TRAIN WITH LOGICTIC REGRESSION"
   ]
  },
  {
   "cell_type": "markdown",
   "id": "d7fee169-e5cc-46b9-a601-c9aaef1947bb",
   "metadata": {},
   "source": [
    "### STANDARIZE DATA"
   ]
  },
  {
   "cell_type": "code",
   "execution_count": 31,
   "id": "243f665a-131c-4ef6-ad5f-c466e4b2ef1c",
   "metadata": {},
   "outputs": [],
   "source": [
    "# estandarizado\n",
    "x_train = (x_train - x_train.mean())/x_train.std()\n",
    "x_test = (x_test - x_test.mean())/x_test.std()"
   ]
  },
  {
   "cell_type": "markdown",
   "id": "484701c2-1939-41d4-a23c-6581d3bbf8ec",
   "metadata": {},
   "source": [
    "### TRAIN MODEL"
   ]
  },
  {
   "cell_type": "code",
   "execution_count": 32,
   "id": "9bd7dfbc-605c-48db-a794-863edeee7789",
   "metadata": {},
   "outputs": [
    {
     "data": {
      "text/plain": [
       "LogisticRegression(solver='liblinear')"
      ]
     },
     "execution_count": 32,
     "metadata": {},
     "output_type": "execute_result"
    }
   ],
   "source": [
    "# Entrenamiento del modelo\n",
    "model = LogisticRegression(solver=\"liblinear\")\n",
    "model.fit(x_train, y_train)"
   ]
  },
  {
   "cell_type": "markdown",
   "id": "e1d3105e-de88-48ae-8d2c-48fa18e86e2f",
   "metadata": {},
   "source": [
    "### MAKE AND TEST PREDICTIONS"
   ]
  },
  {
   "cell_type": "code",
   "execution_count": 33,
   "id": "ccf1ad86-a563-4d8f-aa89-c9e8555898f8",
   "metadata": {},
   "outputs": [],
   "source": [
    "y_results_logictic = model.predict(x_test)"
   ]
  },
  {
   "cell_type": "code",
   "execution_count": 34,
   "id": "5ca55b83-ca28-4008-8cce-fbfe130423b0",
   "metadata": {},
   "outputs": [
    {
     "name": "stdout",
     "output_type": "stream",
     "text": [
      "De 10 kicks 10 predijo como kick\n",
      "De 8 Snares 6 predijo como snare\n",
      "De 12 Hihat 11 predijo como hihat\n"
     ]
    }
   ],
   "source": [
    "kicksAcertados, numKicks = 0, 0\n",
    "snaresAcertados, numSnares = 0, 0\n",
    "hihatAcertados, numHihat = 0, 0\n",
    "\n",
    "for num in range(len(x_test)):\n",
    "    if x_test.index[num] <= 49:\n",
    "        if y_results_logictic[num] == 1:\n",
    "            kicksAcertados += 1\n",
    "        numKicks += 1\n",
    "            \n",
    "    elif x_test.index[num] > 49 and x_test.index[num] <= 99:\n",
    "        if y_results_logictic[num] == 2:\n",
    "            snaresAcertados += 1\n",
    "        numSnares += 1\n",
    "            \n",
    "    elif x_test.index[num] > 99:\n",
    "        if y_results_logictic[num] == 3:\n",
    "            hihatAcertados += 1\n",
    "        numHihat += 1\n",
    "\n",
    "print(\"De\", numKicks, \"kicks\", kicksAcertados, \"predijo como kick\")\n",
    "print(\"De\", numSnares, \"Snares\", snaresAcertados, \"predijo como snare\")\n",
    "print(\"De\", numHihat, \"Hihat\", hihatAcertados, \"predijo como hihat\")"
   ]
  },
  {
   "cell_type": "markdown",
   "id": "38cbbe1e-2d72-4868-9f05-8c786498fcae",
   "metadata": {},
   "source": [
    "### PREDICTIONS PROBABILITIES"
   ]
  },
  {
   "cell_type": "code",
   "execution_count": 35,
   "id": "41229796-dba6-4731-b456-8aced18b9232",
   "metadata": {},
   "outputs": [
    {
     "data": {
      "text/plain": [
       "array([[8.83571115e-01, 3.14857281e-02, 8.49431568e-02],\n",
       "       [3.25486838e-03, 4.48359661e-01, 5.48385471e-01],\n",
       "       [8.65498487e-01, 1.30862335e-01, 3.63917846e-03],\n",
       "       [3.11317693e-04, 4.43570804e-01, 5.56117878e-01],\n",
       "       [8.00558046e-01, 1.97999867e-01, 1.44208779e-03],\n",
       "       [7.29646507e-01, 2.68116533e-01, 2.23695990e-03],\n",
       "       [4.33167393e-01, 5.48074289e-01, 1.87583178e-02],\n",
       "       [1.79842631e-02, 5.94903403e-02, 9.22525397e-01],\n",
       "       [8.74253789e-02, 1.30310583e-02, 8.99543563e-01],\n",
       "       [7.67537848e-01, 2.30018981e-01, 2.44317109e-03]])"
      ]
     },
     "execution_count": 35,
     "metadata": {},
     "output_type": "execute_result"
    }
   ],
   "source": [
    "y_hat_proba = model.predict_proba(x_test)\n",
    "y_hat_proba[:10]"
   ]
  },
  {
   "cell_type": "code",
   "execution_count": 36,
   "id": "eeccecdf-0f85-44cc-bf50-e11a7634b933",
   "metadata": {},
   "outputs": [
    {
     "name": "stdout",
     "output_type": "stream",
     "text": [
      "              precision    recall  f1-score   support\n",
      "\n",
      "           1       1.00      1.00      1.00        10\n",
      "           2       0.86      0.75      0.80         8\n",
      "           3       0.85      0.92      0.88        12\n",
      "\n",
      "    accuracy                           0.90        30\n",
      "   macro avg       0.90      0.89      0.89        30\n",
      "weighted avg       0.90      0.90      0.90        30\n",
      "\n"
     ]
    }
   ],
   "source": [
    "print(classification_report(y_test,y_results_logictic))"
   ]
  },
  {
   "cell_type": "code",
   "execution_count": 37,
   "id": "6271173d-8dc0-4274-8498-39b4bd2540b9",
   "metadata": {},
   "outputs": [
    {
     "data": {
      "image/png": "[encoded data removed]",
      "text/plain": [
       "<Figure size 504x504 with 2 Axes>"
      ]
     },
     "metadata": {
      "needs_background": "light"
     },
     "output_type": "display_data"
    }
   ],
   "source": [
    "skplt.metrics.plot_confusion_matrix(y_test, y_results_logictic, normalize = True, figsize=(7,7),text_fontsize='xx-large')\n",
    "plt.title('Instrumentos', fontsize = 20);"
   ]
  },
  {
   "cell_type": "code",
   "execution_count": 90,
   "id": "96b07314-5cec-497a-b6ac-abad36e9c490",
   "metadata": {},
   "outputs": [],
   "source": [
    "#print('Área bajo la curva ROC:',\"% 1.3f\" % roc_auc_score(y_test, y_hat, multi_class='ovr'))"
   ]
  }
 ],
 "metadata": {
  "kernelspec": {
   "display_name": "Python 3.9.7 64-bit ('base': conda)",
   "language": "python",
   "name": "python397jvsc74a57bd040d3a090f54c6569ab1632332b64b2c03c39dcf918b08424e98f38b5ae0af88f"
  },
  "language_info": {
   "codemirror_mode": {
    "name": "ipython",
    "version": 3
   },
   "file_extension": ".py",
   "mimetype": "text/x-python",
   "name": "python",
   "nbconvert_exporter": "python",
   "pygments_lexer": "ipython3",
   "version": "3.9.7"
  }
 },
 "nbformat": 4,
 "nbformat_minor": 5
}
