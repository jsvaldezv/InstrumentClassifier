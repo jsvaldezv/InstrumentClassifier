{
 "cells": [
  {
   "cell_type": "markdown",
   "id": "038a03d5-c8a8-463b-b116-c6b2457f322c",
   "metadata": {
    "tags": []
   },
   "source": [
    "# Instrument classifier"
   ]
  },
  {
   "cell_type": "markdown",
   "id": "97c40cae-fe08-40da-81a6-193d427fb9e7",
   "metadata": {},
   "source": [
    "## Imports"
   ]
  },
  {
   "cell_type": "code",
   "execution_count": 2,
   "id": "56c45c57-50c2-4481-a2ff-ff8521cfaf82",
   "metadata": {},
   "outputs": [],
   "source": [
    "import scikitplot as skplt\n",
    "import soundfile as sf\n",
    "import numpy as np\n",
    "#import librosa\n",
    "#import librosa.display\n",
    "import matplotlib.pyplot as plt\n",
    "import pandas as pd\n",
    "import math\n",
    "import antropy as ant\n",
    "import seaborn as sns\n",
    "\n",
    "from sklearn import preprocessing\n",
    "from sklearn.linear_model import LogisticRegression\n",
    "from sklearn.neighbors import KNeighborsClassifier\n",
    "from sklearn.model_selection import train_test_split\n",
    "from sklearn.metrics import (r2_score,\n",
    "                             roc_auc_score,\n",
    "                             classification_report,\n",
    "                             confusion_matrix,\n",
    "                             roc_curve,\n",
    "                             accuracy_score,\n",
    "                             mean_squared_error)\n",
    "from sklearn.tree import (DecisionTreeClassifier,\n",
    "                          plot_tree)\n",
    "from sklearn.ensemble import RandomForestClassifier\n",
    "\n",
    "from scipy import signal\n",
    "from scipy.fft import fft, fftfreq, rfftfreq, rfft\n",
    "from scipy.stats import norm, kurtosis\n",
    "\n",
    "from pedalboard import LadderFilter, Pedalboard\n",
    "from soundfile import SoundFile"
   ]
  },
  {
   "cell_type": "markdown",
   "id": "a20bd117-26b6-4be3-a13c-9769de2b376b",
   "metadata": {},
   "source": [
    "## Functions"
   ]
  },
  {
   "cell_type": "code",
   "execution_count": 3,
   "id": "91877c16-36c7-4282-84a6-3ecf0f9a9305",
   "metadata": {},
   "outputs": [],
   "source": [
    "# Centroid\n",
    "def centroid(frequency, amplitude):\n",
    "    centroid = np.sum(amplitude * frequency) / np.sum(amplitude)\n",
    "    return centroid\n",
    "\n",
    "# Spread\n",
    "def spread(frequency, amplitude):\n",
    "    centroid = np.sum(amplitude * frequency) / np.sum(amplitude)\n",
    "    spread = math.sqrt(np.sum((frequency - centroid) ** 2 * amplitude) / np.sum(amplitude))\n",
    "    return spread\n",
    "\n",
    "# Skewness\n",
    "def skewness(frequency, amplitude):\n",
    "    centroid = np.sum(amplitude * frequency) / np.sum(amplitude)\n",
    "    spread = math.sqrt(np.sum((frequency - centroid) ** 2 * amplitude) / np.sum(amplitude))\n",
    "    skewness = np.sum((frequency - centroid) ** 3 * amplitude) / (spread ** 3 * np.sum(amplitude))\n",
    "    return skewness\n",
    "\n",
    "# Kurtosis\n",
    "def kurtosis(frequency, amplitude):\n",
    "    centroid = np.sum(amplitude * frequency) / np.sum(amplitude)\n",
    "    spread = math.sqrt(np.sum((frequency - centroid) ** 2 * amplitude) / np.sum(amplitude))\n",
    "    kurtosis = np.sum((frequency - centroid) ** 4 * amplitude) / (spread ** 4 * np.sum(amplitude)) - 3\n",
    "    return kurtosis\n",
    "\n",
    "# Entropy\n",
    "def entropy(amplitude):\n",
    "    entropy = -np.sum(amplitude * np.log(amplitude)) / np.log(len(amplitude))\n",
    "    return entropy\n",
    "\n",
    "# Flatness\n",
    "def flatness(amplitude):\n",
    "    flatness = np.exp(np.mean(np.log(amplitude))) / np.mean(amplitude)\n",
    "    return flatness\n",
    "\n",
    "# Decrease\n",
    "def decrease(amplitude):\n",
    "    first = amplitude[0]\n",
    "    amplitude = np.delete(amplitude, 0)\n",
    "    decrease = np.sum((amplitude - first) / (len(amplitude) - 1)) / np.sum(amplitude)\n",
    "    return decrease\n",
    "\n",
    "# Slope\n",
    "def slope(frequency, amplitude):\n",
    "    slope = sum((frequency - np.mean(frequency)) * (amplitude - np.mean(amplitude))) / np.sum((frequency - np.mean(frequency)) ** 2)\n",
    "    return slope\n",
    "\n",
    "# Peak\n",
    "def peak(frequency, amplitude):\n",
    "    index = np.argmax(np.array(amplitude))\n",
    "    peak = frequency[index]\n",
    "    return peak\n",
    "\n",
    "# Crest\n",
    "def crest(frequency, amplitude):\n",
    "    index = np.argmax(np.array(amplitude))\n",
    "    peak = frequency[index]\n",
    "    crest = peak / np.mean(amplitude)\n",
    "    return crest\n",
    "\n",
    "# Rolloff\n",
    "def rolloff(amplitude, treshold):\n",
    "    if treshold is None:\n",
    "        treshold = 0.95\n",
    "    index = np.where(x > amplitude[end] * 0.95, x, np.cumsum(amplitude))\n",
    "    rolloff = amplitude[index[0]]\n",
    "    return rolloff"
   ]
  },
  {
   "cell_type": "markdown",
   "id": "c371abcf-6555-4ec4-a1c5-e28ff4d31a48",
   "metadata": {},
   "source": [
    "## Instruments"
   ]
  },
  {
   "cell_type": "code",
   "execution_count": 9,
   "id": "8f90a5de-389b-4b26-9983-acf12c851a86",
   "metadata": {},
   "outputs": [],
   "source": [
    "instruments = [\"Kick\", \"Snare\", \"Hihat\", \"Guitar\", \"Bass\", \"Vox\"]\n",
    "numSounds = 50"
   ]
  },
  {
   "cell_type": "markdown",
   "id": "1509c15b-7aaa-4fe5-8b0b-441432b8fbf5",
   "metadata": {},
   "source": [
    "## Audio load"
   ]
  },
  {
   "cell_type": "code",
   "execution_count": 11,
   "id": "4885733a-670e-4257-b8aa-8a5aa4671166",
   "metadata": {},
   "outputs": [],
   "source": [
    "generalPath = \"../InstrumentsClassifier/Instruments/\"\n",
    "\n",
    "instrumentsAudio = []\n",
    "for instrument in instruments:\n",
    "    instrumentPath = generalPath + instrument + \"/\"\n",
    "    sound = []\n",
    "    \n",
    "    for i in range(numSounds):\n",
    "        path = instrumentPath + instrument + \"_\" + str(i+1) + \".wav\"\n",
    "        audio = SoundFile(path)\n",
    "\n",
    "        if audio.channels == 1:\n",
    "            samples, sr = sf.read(path)\n",
    "            sound.append([samples, sr])\n",
    "        else:\n",
    "            samples, sr = sf.read(path)\n",
    "            sound.append([samples[:,0], sr])\n",
    "            \n",
    "    instrumentsAudio.append([instrument, sound])"
   ]
  },
  {
   "cell_type": "markdown",
   "id": "b52c17ac-da20-46be-804c-288ead6dcb20",
   "metadata": {},
   "source": [
    "## Pre-processing"
   ]
  },
  {
   "cell_type": "markdown",
   "id": "b9758a21-269b-436d-b788-80293f183ee5",
   "metadata": {},
   "source": [
    "### Kicks"
   ]
  },
  {
   "cell_type": "code",
   "execution_count": 15,
   "id": "f64c4969-14cc-4806-b43e-4266e4a82d05",
   "metadata": {},
   "outputs": [
    {
     "ename": "NameError",
     "evalue": "name 'kicks' is not defined",
     "output_type": "error",
     "traceback": [
      "\u001b[0;31m---------------------------------------------------------------------------\u001b[0m",
      "\u001b[0;31mNameError\u001b[0m                                 Traceback (most recent call last)",
      "\u001b[0;32m/var/folders/91/rykpkwnj05x9s5tpxb257gq40000gn/T/ipykernel_18753/773340580.py\u001b[0m in \u001b[0;36m<module>\u001b[0;34m\u001b[0m\n\u001b[1;32m      2\u001b[0m \u001b[0;34m\u001b[0m\u001b[0m\n\u001b[1;32m      3\u001b[0m \u001b[0mcount\u001b[0m \u001b[0;34m=\u001b[0m \u001b[0;36m0\u001b[0m\u001b[0;34m\u001b[0m\u001b[0;34m\u001b[0m\u001b[0m\n\u001b[0;32m----> 4\u001b[0;31m \u001b[0;32mfor\u001b[0m \u001b[0mkick\u001b[0m \u001b[0;32min\u001b[0m \u001b[0mkicks\u001b[0m\u001b[0;34m:\u001b[0m\u001b[0;34m\u001b[0m\u001b[0;34m\u001b[0m\u001b[0m\n\u001b[0m\u001b[1;32m      5\u001b[0m     \u001b[0mamplitude\u001b[0m \u001b[0;34m=\u001b[0m \u001b[0mkick\u001b[0m\u001b[0;34m[\u001b[0m\u001b[0;36m0\u001b[0m\u001b[0;34m]\u001b[0m\u001b[0;34m\u001b[0m\u001b[0;34m\u001b[0m\u001b[0m\n\u001b[1;32m      6\u001b[0m     \u001b[0msr\u001b[0m \u001b[0;34m=\u001b[0m \u001b[0mkick\u001b[0m\u001b[0;34m[\u001b[0m\u001b[0;36m1\u001b[0m\u001b[0;34m]\u001b[0m\u001b[0;34m\u001b[0m\u001b[0;34m\u001b[0m\u001b[0m\n",
      "\u001b[0;31mNameError\u001b[0m: name 'kicks' is not defined"
     ]
    }
   ],
   "source": [
    "kick = []\n",
    "\n",
    "count = 0\n",
    "for kick in kicks:\n",
    "    amplitude = kick[0]\n",
    "    sr = kick[1]\n",
    "    time = np.arange(0, kick[0][end], sr)\n",
    "    \n",
    "    spectrum = np.abs(rfft(amplitude))\n",
    "    frequency = rfftfreq(len(amplitude), 1 / sr)\n",
    "    \n",
    "    print(\"Amplitude:\", amplitude)\n",
    "    print(\"Time:\", time)\n",
    "    print(\"Spectrum:\", spectrum)\n",
    "    print(\"Frequency:\", frequency)"
   ]
  },
  {
   "cell_type": "code",
   "execution_count": null,
   "id": "181fadbe-bd6c-4aed-bca8-f8bf62ce98a7",
   "metadata": {},
   "outputs": [],
   "source": []
  }
 ],
 "metadata": {
  "kernelspec": {
   "display_name": "Python 3 (ipykernel)",
   "language": "python",
   "name": "python3"
  },
  "language_info": {
   "codemirror_mode": {
    "name": "ipython",
    "version": 3
   },
   "file_extension": ".py",
   "mimetype": "text/x-python",
   "name": "python",
   "nbconvert_exporter": "python",
   "pygments_lexer": "ipython3",
   "version": "3.9.7"
  }
 },
 "nbformat": 4,
 "nbformat_minor": 5
}
